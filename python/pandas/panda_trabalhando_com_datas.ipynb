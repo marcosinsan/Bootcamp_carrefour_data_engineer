{
  "nbformat": 4,
  "nbformat_minor": 0,
  "metadata": {
    "colab": {
      "name": "panda_trabalhando_com_datas.ipynb",
      "provenance": [],
      "collapsed_sections": [
        "8GKCrm0CDw4T"
      ]
    },
    "kernelspec": {
      "name": "python3",
      "display_name": "Python 3"
    },
    "language_info": {
      "name": "python"
    }
  },
  "cells": [
    {
      "cell_type": "markdown",
      "metadata": {
        "id": "5h8WTJajCOKr"
      },
      "source": [
        "<font color='green' size=18>Pandas - Trabalhando com datas"
      ]
    },
    {
      "cell_type": "markdown",
      "metadata": {
        "id": "ES4w48irNbq6"
      },
      "source": [
        "# Trabalhando com Datas"
      ]
    },
    {
      "cell_type": "code",
      "metadata": {
        "id": "GQV1WvPACFFY"
      },
      "source": [
        "# Importando bibliotecas\n",
        "import pandas as pd"
      ],
      "execution_count": null,
      "outputs": []
    },
    {
      "cell_type": "code",
      "metadata": {
        "colab": {
          "base_uri": "https://localhost:8080/",
          "height": 204
        },
        "id": "gGKeC95NDByr",
        "outputId": "d1621b64-af8a-4838-8f45-bd168ec9dd19"
      },
      "source": [
        "# Leitura dos arquivos \n",
        "df1 = pd.read_excel(\"Aracaju.xlsx\")\n",
        "df2 = pd.read_excel(\"Fortaleza.xlsx\")\n",
        "df3 = pd.read_excel(\"Natal.xlsx\")\n",
        "df4 = pd.read_excel(\"Recife.xlsx\")\n",
        "df5 = pd.read_excel(\"Salvador.xlsx\")\n",
        "\n",
        "# Concatenando dataframes\n",
        "df = pd.concat([df1, df2, df3, df4, df5])\n",
        "\n",
        "# Visualizando 5 primeiros elementos\n",
        "df.head()"
      ],
      "execution_count": null,
      "outputs": [
        {
          "output_type": "execute_result",
          "data": {
            "text/html": [
              "<div>\n",
              "<style scoped>\n",
              "    .dataframe tbody tr th:only-of-type {\n",
              "        vertical-align: middle;\n",
              "    }\n",
              "\n",
              "    .dataframe tbody tr th {\n",
              "        vertical-align: top;\n",
              "    }\n",
              "\n",
              "    .dataframe thead th {\n",
              "        text-align: right;\n",
              "    }\n",
              "</style>\n",
              "<table border=\"1\" class=\"dataframe\">\n",
              "  <thead>\n",
              "    <tr style=\"text-align: right;\">\n",
              "      <th></th>\n",
              "      <th>Cidade</th>\n",
              "      <th>Data</th>\n",
              "      <th>Vendas</th>\n",
              "      <th>LojaID</th>\n",
              "      <th>Qtde</th>\n",
              "    </tr>\n",
              "  </thead>\n",
              "  <tbody>\n",
              "    <tr>\n",
              "      <th>0</th>\n",
              "      <td>Aracaju</td>\n",
              "      <td>2018-01-01</td>\n",
              "      <td>142.00</td>\n",
              "      <td>1520</td>\n",
              "      <td>1</td>\n",
              "    </tr>\n",
              "    <tr>\n",
              "      <th>1</th>\n",
              "      <td>Aracaju</td>\n",
              "      <td>2018-01-01</td>\n",
              "      <td>14.21</td>\n",
              "      <td>1522</td>\n",
              "      <td>6</td>\n",
              "    </tr>\n",
              "    <tr>\n",
              "      <th>2</th>\n",
              "      <td>Aracaju</td>\n",
              "      <td>2018-01-01</td>\n",
              "      <td>71.55</td>\n",
              "      <td>1520</td>\n",
              "      <td>1</td>\n",
              "    </tr>\n",
              "    <tr>\n",
              "      <th>3</th>\n",
              "      <td>Aracaju</td>\n",
              "      <td>2018-01-01</td>\n",
              "      <td>3.01</td>\n",
              "      <td>1521</td>\n",
              "      <td>7</td>\n",
              "    </tr>\n",
              "    <tr>\n",
              "      <th>4</th>\n",
              "      <td>Aracaju</td>\n",
              "      <td>2018-01-01</td>\n",
              "      <td>24.51</td>\n",
              "      <td>1522</td>\n",
              "      <td>8</td>\n",
              "    </tr>\n",
              "  </tbody>\n",
              "</table>\n",
              "</div>"
            ],
            "text/plain": [
              "    Cidade       Data  Vendas  LojaID  Qtde\n",
              "0  Aracaju 2018-01-01  142.00    1520     1\n",
              "1  Aracaju 2018-01-01   14.21    1522     6\n",
              "2  Aracaju 2018-01-01   71.55    1520     1\n",
              "3  Aracaju 2018-01-01    3.01    1521     7\n",
              "4  Aracaju 2018-01-01   24.51    1522     8"
            ]
          },
          "metadata": {},
          "execution_count": 2
        }
      ]
    },
    {
      "cell_type": "code",
      "metadata": {
        "id": "i6W8lhjtFoxy"
      },
      "source": [
        "# criando uma nova coluna\n",
        "df['Receita'] = df['Vendas'].mul(df['Qtde'])"
      ],
      "execution_count": null,
      "outputs": []
    },
    {
      "cell_type": "code",
      "metadata": {
        "colab": {
          "base_uri": "https://localhost:8080/",
          "height": 204
        },
        "id": "8Ti7LA5IF3Xc",
        "outputId": "040bd390-634b-479b-83f0-398fc93ac2ca"
      },
      "source": [
        "df.head()"
      ],
      "execution_count": null,
      "outputs": [
        {
          "output_type": "execute_result",
          "data": {
            "text/html": [
              "<div>\n",
              "<style scoped>\n",
              "    .dataframe tbody tr th:only-of-type {\n",
              "        vertical-align: middle;\n",
              "    }\n",
              "\n",
              "    .dataframe tbody tr th {\n",
              "        vertical-align: top;\n",
              "    }\n",
              "\n",
              "    .dataframe thead th {\n",
              "        text-align: right;\n",
              "    }\n",
              "</style>\n",
              "<table border=\"1\" class=\"dataframe\">\n",
              "  <thead>\n",
              "    <tr style=\"text-align: right;\">\n",
              "      <th></th>\n",
              "      <th>Cidade</th>\n",
              "      <th>Data</th>\n",
              "      <th>Vendas</th>\n",
              "      <th>LojaID</th>\n",
              "      <th>Qtde</th>\n",
              "      <th>Receita</th>\n",
              "    </tr>\n",
              "  </thead>\n",
              "  <tbody>\n",
              "    <tr>\n",
              "      <th>0</th>\n",
              "      <td>Aracaju</td>\n",
              "      <td>2018-01-01</td>\n",
              "      <td>142.00</td>\n",
              "      <td>1520</td>\n",
              "      <td>1</td>\n",
              "      <td>142.00</td>\n",
              "    </tr>\n",
              "    <tr>\n",
              "      <th>1</th>\n",
              "      <td>Aracaju</td>\n",
              "      <td>2018-01-01</td>\n",
              "      <td>14.21</td>\n",
              "      <td>1522</td>\n",
              "      <td>6</td>\n",
              "      <td>85.26</td>\n",
              "    </tr>\n",
              "    <tr>\n",
              "      <th>2</th>\n",
              "      <td>Aracaju</td>\n",
              "      <td>2018-01-01</td>\n",
              "      <td>71.55</td>\n",
              "      <td>1520</td>\n",
              "      <td>1</td>\n",
              "      <td>71.55</td>\n",
              "    </tr>\n",
              "    <tr>\n",
              "      <th>3</th>\n",
              "      <td>Aracaju</td>\n",
              "      <td>2018-01-01</td>\n",
              "      <td>3.01</td>\n",
              "      <td>1521</td>\n",
              "      <td>7</td>\n",
              "      <td>21.07</td>\n",
              "    </tr>\n",
              "    <tr>\n",
              "      <th>4</th>\n",
              "      <td>Aracaju</td>\n",
              "      <td>2018-01-01</td>\n",
              "      <td>24.51</td>\n",
              "      <td>1522</td>\n",
              "      <td>8</td>\n",
              "      <td>196.08</td>\n",
              "    </tr>\n",
              "  </tbody>\n",
              "</table>\n",
              "</div>"
            ],
            "text/plain": [
              "    Cidade       Data  Vendas  LojaID  Qtde  Receita\n",
              "0  Aracaju 2018-01-01  142.00    1520     1   142.00\n",
              "1  Aracaju 2018-01-01   14.21    1522     6    85.26\n",
              "2  Aracaju 2018-01-01   71.55    1520     1    71.55\n",
              "3  Aracaju 2018-01-01    3.01    1521     7    21.07\n",
              "4  Aracaju 2018-01-01   24.51    1522     8   196.08"
            ]
          },
          "metadata": {},
          "execution_count": 4
        }
      ]
    },
    {
      "cell_type": "code",
      "metadata": {
        "colab": {
          "base_uri": "https://localhost:8080/"
        },
        "id": "FsUPbITlDhsq",
        "outputId": "e06c2d60-e4fa-4b29-ef4c-faa5258f1f52"
      },
      "source": [
        "df.dtypes"
      ],
      "execution_count": null,
      "outputs": [
        {
          "output_type": "execute_result",
          "data": {
            "text/plain": [
              "Cidade             object\n",
              "Data       datetime64[ns]\n",
              "Vendas            float64\n",
              "LojaID              int64\n",
              "Qtde                int64\n",
              "Receita           float64\n",
              "dtype: object"
            ]
          },
          "metadata": {},
          "execution_count": 5
        }
      ]
    },
    {
      "cell_type": "markdown",
      "metadata": {
        "id": "8GKCrm0CDw4T"
      },
      "source": [
        "## Alterando os tipos"
      ]
    },
    {
      "cell_type": "code",
      "metadata": {
        "id": "i-KxmE68DpvE"
      },
      "source": [
        "# Alterando uma coluna de data e um inteiro\n",
        "df['Data'] = df['Data'].astype('int64')"
      ],
      "execution_count": null,
      "outputs": []
    },
    {
      "cell_type": "code",
      "metadata": {
        "colab": {
          "base_uri": "https://localhost:8080/"
        },
        "id": "AXjTJvVbEIUz",
        "outputId": "5519bb28-baed-4d50-b9ff-286d3e23cfc8"
      },
      "source": [
        "df.dtypes"
      ],
      "execution_count": null,
      "outputs": [
        {
          "output_type": "execute_result",
          "data": {
            "text/plain": [
              "Cidade      object\n",
              "Data         int64\n",
              "Vendas     float64\n",
              "LojaID       int64\n",
              "Qtde         int64\n",
              "Receita    float64\n",
              "dtype: object"
            ]
          },
          "metadata": {},
          "execution_count": 7
        }
      ]
    },
    {
      "cell_type": "code",
      "metadata": {
        "id": "pDQAyG2iEJ77"
      },
      "source": [
        "# Transformando colunas de \"Data\" em data\n",
        "df['Data'] = pd.to_datetime(df['Data'])"
      ],
      "execution_count": null,
      "outputs": []
    },
    {
      "cell_type": "code",
      "metadata": {
        "colab": {
          "base_uri": "https://localhost:8080/"
        },
        "id": "DvJolR79Ef56",
        "outputId": "8b658434-a1d1-48fb-8f61-a7a1b8fd6318"
      },
      "source": [
        "df.dtypes"
      ],
      "execution_count": null,
      "outputs": [
        {
          "output_type": "execute_result",
          "data": {
            "text/plain": [
              "Cidade             object\n",
              "Data       datetime64[ns]\n",
              "Vendas            float64\n",
              "LojaID              int64\n",
              "Qtde                int64\n",
              "Receita           float64\n",
              "dtype: object"
            ]
          },
          "metadata": {},
          "execution_count": 9
        }
      ]
    },
    {
      "cell_type": "markdown",
      "metadata": {
        "id": "Qyxb_F5mEq9F"
      },
      "source": [
        "## Criando agrupamento com Datas"
      ]
    },
    {
      "cell_type": "code",
      "metadata": {
        "colab": {
          "base_uri": "https://localhost:8080/"
        },
        "id": "eQr2rXItEiFO",
        "outputId": "4296d99d-66c0-4b43-e844-05992f9feca0"
      },
      "source": [
        "df.groupby(df['Data'].dt.year)['Receita'].sum()"
      ],
      "execution_count": null,
      "outputs": [
        {
          "output_type": "execute_result",
          "data": {
            "text/plain": [
              "Data\n",
              "2018    118176.53\n",
              "2019    228246.45\n",
              "Name: Receita, dtype: float64"
            ]
          },
          "metadata": {},
          "execution_count": 10
        }
      ]
    },
    {
      "cell_type": "markdown",
      "metadata": {
        "id": "Dl6FSCqcG0f8"
      },
      "source": [
        "## Criando colunas com tipos data"
      ]
    },
    {
      "cell_type": "code",
      "metadata": {
        "id": "o51EWovPFEOK"
      },
      "source": [
        "# Criando uma nova coluna com ano\n",
        "df['Ano_venda'] = df['Data'].dt.year"
      ],
      "execution_count": null,
      "outputs": []
    },
    {
      "cell_type": "code",
      "metadata": {
        "colab": {
          "base_uri": "https://localhost:8080/",
          "height": 204
        },
        "id": "TjVS6OSHGlzw",
        "outputId": "6c9867f4-ca91-4f1a-cb0b-cf66accfd859"
      },
      "source": [
        "df.sample(5)"
      ],
      "execution_count": null,
      "outputs": [
        {
          "output_type": "execute_result",
          "data": {
            "text/html": [
              "<div>\n",
              "<style scoped>\n",
              "    .dataframe tbody tr th:only-of-type {\n",
              "        vertical-align: middle;\n",
              "    }\n",
              "\n",
              "    .dataframe tbody tr th {\n",
              "        vertical-align: top;\n",
              "    }\n",
              "\n",
              "    .dataframe thead th {\n",
              "        text-align: right;\n",
              "    }\n",
              "</style>\n",
              "<table border=\"1\" class=\"dataframe\">\n",
              "  <thead>\n",
              "    <tr style=\"text-align: right;\">\n",
              "      <th></th>\n",
              "      <th>Cidade</th>\n",
              "      <th>Data</th>\n",
              "      <th>Vendas</th>\n",
              "      <th>LojaID</th>\n",
              "      <th>Qtde</th>\n",
              "      <th>Receita</th>\n",
              "      <th>Ano_venda</th>\n",
              "    </tr>\n",
              "  </thead>\n",
              "  <tbody>\n",
              "    <tr>\n",
              "      <th>92</th>\n",
              "      <td>Natal</td>\n",
              "      <td>2019-01-02</td>\n",
              "      <td>4.57</td>\n",
              "      <td>1035</td>\n",
              "      <td>1</td>\n",
              "      <td>4.57</td>\n",
              "      <td>2019</td>\n",
              "    </tr>\n",
              "    <tr>\n",
              "      <th>24</th>\n",
              "      <td>Fortaleza</td>\n",
              "      <td>2019-01-01</td>\n",
              "      <td>35.38</td>\n",
              "      <td>1005</td>\n",
              "      <td>4</td>\n",
              "      <td>141.52</td>\n",
              "      <td>2019</td>\n",
              "    </tr>\n",
              "    <tr>\n",
              "      <th>18</th>\n",
              "      <td>Recife</td>\n",
              "      <td>2019-01-01</td>\n",
              "      <td>49.40</td>\n",
              "      <td>980</td>\n",
              "      <td>5</td>\n",
              "      <td>247.00</td>\n",
              "      <td>2019</td>\n",
              "    </tr>\n",
              "    <tr>\n",
              "      <th>19</th>\n",
              "      <td>Fortaleza</td>\n",
              "      <td>2019-01-01</td>\n",
              "      <td>18.86</td>\n",
              "      <td>1002</td>\n",
              "      <td>3</td>\n",
              "      <td>56.58</td>\n",
              "      <td>2019</td>\n",
              "    </tr>\n",
              "    <tr>\n",
              "      <th>78</th>\n",
              "      <td>Salvador</td>\n",
              "      <td>2019-01-01</td>\n",
              "      <td>111.20</td>\n",
              "      <td>1036</td>\n",
              "      <td>3</td>\n",
              "      <td>333.60</td>\n",
              "      <td>2019</td>\n",
              "    </tr>\n",
              "  </tbody>\n",
              "</table>\n",
              "</div>"
            ],
            "text/plain": [
              "       Cidade       Data  Vendas  LojaID  Qtde  Receita  Ano_venda\n",
              "92      Natal 2019-01-02    4.57    1035     1     4.57       2019\n",
              "24  Fortaleza 2019-01-01   35.38    1005     4   141.52       2019\n",
              "18     Recife 2019-01-01   49.40     980     5   247.00       2019\n",
              "19  Fortaleza 2019-01-01   18.86    1002     3    56.58       2019\n",
              "78   Salvador 2019-01-01  111.20    1036     3   333.60       2019"
            ]
          },
          "metadata": {},
          "execution_count": 12
        }
      ]
    },
    {
      "cell_type": "code",
      "metadata": {
        "id": "hIOiOEkxGsxe"
      },
      "source": [
        "# Extraindo o mês e o dia\n",
        "df['mes_venda'], df['dia_venda'] = (df['Data'].dt.month, df['Data'].dt.day)"
      ],
      "execution_count": null,
      "outputs": []
    },
    {
      "cell_type": "code",
      "metadata": {
        "colab": {
          "base_uri": "https://localhost:8080/",
          "height": 359
        },
        "id": "VOqFv8ZXJ3Sa",
        "outputId": "53155a59-1462-469e-ed09-8f770d960b38"
      },
      "source": [
        "df.sample(10)"
      ],
      "execution_count": null,
      "outputs": [
        {
          "output_type": "execute_result",
          "data": {
            "text/html": [
              "<div>\n",
              "<style scoped>\n",
              "    .dataframe tbody tr th:only-of-type {\n",
              "        vertical-align: middle;\n",
              "    }\n",
              "\n",
              "    .dataframe tbody tr th {\n",
              "        vertical-align: top;\n",
              "    }\n",
              "\n",
              "    .dataframe thead th {\n",
              "        text-align: right;\n",
              "    }\n",
              "</style>\n",
              "<table border=\"1\" class=\"dataframe\">\n",
              "  <thead>\n",
              "    <tr style=\"text-align: right;\">\n",
              "      <th></th>\n",
              "      <th>Cidade</th>\n",
              "      <th>Data</th>\n",
              "      <th>Vendas</th>\n",
              "      <th>LojaID</th>\n",
              "      <th>Qtde</th>\n",
              "      <th>Receita</th>\n",
              "      <th>Ano_venda</th>\n",
              "      <th>mes_venda</th>\n",
              "      <th>dia_venda</th>\n",
              "    </tr>\n",
              "  </thead>\n",
              "  <tbody>\n",
              "    <tr>\n",
              "      <th>0</th>\n",
              "      <td>Salvador</td>\n",
              "      <td>2018-01-01</td>\n",
              "      <td>31.06</td>\n",
              "      <td>1037</td>\n",
              "      <td>3</td>\n",
              "      <td>93.18</td>\n",
              "      <td>2018</td>\n",
              "      <td>1</td>\n",
              "      <td>1</td>\n",
              "    </tr>\n",
              "    <tr>\n",
              "      <th>11</th>\n",
              "      <td>Salvador</td>\n",
              "      <td>2019-01-01</td>\n",
              "      <td>30.62</td>\n",
              "      <td>1034</td>\n",
              "      <td>3</td>\n",
              "      <td>91.86</td>\n",
              "      <td>2019</td>\n",
              "      <td>1</td>\n",
              "      <td>1</td>\n",
              "    </tr>\n",
              "    <tr>\n",
              "      <th>86</th>\n",
              "      <td>Aracaju</td>\n",
              "      <td>2018-01-01</td>\n",
              "      <td>154.92</td>\n",
              "      <td>1521</td>\n",
              "      <td>5</td>\n",
              "      <td>774.60</td>\n",
              "      <td>2018</td>\n",
              "      <td>1</td>\n",
              "      <td>1</td>\n",
              "    </tr>\n",
              "    <tr>\n",
              "      <th>57</th>\n",
              "      <td>Recife</td>\n",
              "      <td>2019-01-01</td>\n",
              "      <td>201.41</td>\n",
              "      <td>980</td>\n",
              "      <td>3</td>\n",
              "      <td>604.23</td>\n",
              "      <td>2019</td>\n",
              "      <td>1</td>\n",
              "      <td>1</td>\n",
              "    </tr>\n",
              "    <tr>\n",
              "      <th>126</th>\n",
              "      <td>Salvador</td>\n",
              "      <td>2019-03-02</td>\n",
              "      <td>41.69</td>\n",
              "      <td>1036</td>\n",
              "      <td>2</td>\n",
              "      <td>83.38</td>\n",
              "      <td>2019</td>\n",
              "      <td>3</td>\n",
              "      <td>2</td>\n",
              "    </tr>\n",
              "    <tr>\n",
              "      <th>44</th>\n",
              "      <td>Aracaju</td>\n",
              "      <td>2018-01-01</td>\n",
              "      <td>11.42</td>\n",
              "      <td>1520</td>\n",
              "      <td>5</td>\n",
              "      <td>57.10</td>\n",
              "      <td>2018</td>\n",
              "      <td>1</td>\n",
              "      <td>1</td>\n",
              "    </tr>\n",
              "    <tr>\n",
              "      <th>149</th>\n",
              "      <td>Natal</td>\n",
              "      <td>2019-01-02</td>\n",
              "      <td>22.38</td>\n",
              "      <td>1034</td>\n",
              "      <td>3</td>\n",
              "      <td>67.14</td>\n",
              "      <td>2019</td>\n",
              "      <td>1</td>\n",
              "      <td>2</td>\n",
              "    </tr>\n",
              "    <tr>\n",
              "      <th>165</th>\n",
              "      <td>Salvador</td>\n",
              "      <td>2019-01-02</td>\n",
              "      <td>11.54</td>\n",
              "      <td>1037</td>\n",
              "      <td>1</td>\n",
              "      <td>11.54</td>\n",
              "      <td>2019</td>\n",
              "      <td>1</td>\n",
              "      <td>2</td>\n",
              "    </tr>\n",
              "    <tr>\n",
              "      <th>92</th>\n",
              "      <td>Fortaleza</td>\n",
              "      <td>2019-01-01</td>\n",
              "      <td>3.49</td>\n",
              "      <td>1005</td>\n",
              "      <td>4</td>\n",
              "      <td>13.96</td>\n",
              "      <td>2019</td>\n",
              "      <td>1</td>\n",
              "      <td>1</td>\n",
              "    </tr>\n",
              "    <tr>\n",
              "      <th>148</th>\n",
              "      <td>Natal</td>\n",
              "      <td>2019-01-02</td>\n",
              "      <td>40.59</td>\n",
              "      <td>1037</td>\n",
              "      <td>3</td>\n",
              "      <td>121.77</td>\n",
              "      <td>2019</td>\n",
              "      <td>1</td>\n",
              "      <td>2</td>\n",
              "    </tr>\n",
              "  </tbody>\n",
              "</table>\n",
              "</div>"
            ],
            "text/plain": [
              "        Cidade       Data  Vendas  ...  Ano_venda  mes_venda  dia_venda\n",
              "0     Salvador 2018-01-01   31.06  ...       2018          1          1\n",
              "11    Salvador 2019-01-01   30.62  ...       2019          1          1\n",
              "86     Aracaju 2018-01-01  154.92  ...       2018          1          1\n",
              "57      Recife 2019-01-01  201.41  ...       2019          1          1\n",
              "126   Salvador 2019-03-02   41.69  ...       2019          3          2\n",
              "44     Aracaju 2018-01-01   11.42  ...       2018          1          1\n",
              "149      Natal 2019-01-02   22.38  ...       2019          1          2\n",
              "165   Salvador 2019-01-02   11.54  ...       2019          1          2\n",
              "92   Fortaleza 2019-01-01    3.49  ...       2019          1          1\n",
              "148      Natal 2019-01-02   40.59  ...       2019          1          2\n",
              "\n",
              "[10 rows x 9 columns]"
            ]
          },
          "metadata": {},
          "execution_count": 14
        }
      ]
    },
    {
      "cell_type": "code",
      "metadata": {
        "colab": {
          "base_uri": "https://localhost:8080/"
        },
        "id": "o4TlN0gIJ7WA",
        "outputId": "6e1b843d-534d-448f-ae49-85f70aa8b2c0"
      },
      "source": [
        "# Retornando a data mais antiga\n",
        "df['Data'].min()"
      ],
      "execution_count": null,
      "outputs": [
        {
          "output_type": "execute_result",
          "data": {
            "text/plain": [
              "Timestamp('2018-01-01 00:00:00')"
            ]
          },
          "metadata": {},
          "execution_count": 15
        }
      ]
    },
    {
      "cell_type": "code",
      "metadata": {
        "id": "1LL9oW3bKMjg"
      },
      "source": [
        "# Crindo uma nova coluna que mostra a diferenças de dias\n",
        "df['diferenca_dias'] = df['Data'] - df['Data'].min()"
      ],
      "execution_count": null,
      "outputs": []
    },
    {
      "cell_type": "code",
      "metadata": {
        "colab": {
          "base_uri": "https://localhost:8080/",
          "height": 204
        },
        "id": "osfeyo4lKkUI",
        "outputId": "5d3d2ec7-f008-4926-f339-fda88c5e17b4"
      },
      "source": [
        "df.sample(5)"
      ],
      "execution_count": null,
      "outputs": [
        {
          "output_type": "execute_result",
          "data": {
            "text/html": [
              "<div>\n",
              "<style scoped>\n",
              "    .dataframe tbody tr th:only-of-type {\n",
              "        vertical-align: middle;\n",
              "    }\n",
              "\n",
              "    .dataframe tbody tr th {\n",
              "        vertical-align: top;\n",
              "    }\n",
              "\n",
              "    .dataframe thead th {\n",
              "        text-align: right;\n",
              "    }\n",
              "</style>\n",
              "<table border=\"1\" class=\"dataframe\">\n",
              "  <thead>\n",
              "    <tr style=\"text-align: right;\">\n",
              "      <th></th>\n",
              "      <th>Cidade</th>\n",
              "      <th>Data</th>\n",
              "      <th>Vendas</th>\n",
              "      <th>LojaID</th>\n",
              "      <th>Qtde</th>\n",
              "      <th>Receita</th>\n",
              "      <th>Ano_venda</th>\n",
              "      <th>mes_venda</th>\n",
              "      <th>dia_venda</th>\n",
              "      <th>diferenca_dias</th>\n",
              "    </tr>\n",
              "  </thead>\n",
              "  <tbody>\n",
              "    <tr>\n",
              "      <th>81</th>\n",
              "      <td>Salvador</td>\n",
              "      <td>2019-01-01</td>\n",
              "      <td>17.36</td>\n",
              "      <td>1037</td>\n",
              "      <td>2</td>\n",
              "      <td>34.72</td>\n",
              "      <td>2019</td>\n",
              "      <td>1</td>\n",
              "      <td>1</td>\n",
              "      <td>365 days</td>\n",
              "    </tr>\n",
              "    <tr>\n",
              "      <th>101</th>\n",
              "      <td>Recife</td>\n",
              "      <td>2019-01-01</td>\n",
              "      <td>172.55</td>\n",
              "      <td>983</td>\n",
              "      <td>7</td>\n",
              "      <td>1207.85</td>\n",
              "      <td>2019</td>\n",
              "      <td>1</td>\n",
              "      <td>1</td>\n",
              "      <td>365 days</td>\n",
              "    </tr>\n",
              "    <tr>\n",
              "      <th>161</th>\n",
              "      <td>Natal</td>\n",
              "      <td>2019-01-02</td>\n",
              "      <td>5.80</td>\n",
              "      <td>1036</td>\n",
              "      <td>1</td>\n",
              "      <td>5.80</td>\n",
              "      <td>2019</td>\n",
              "      <td>1</td>\n",
              "      <td>2</td>\n",
              "      <td>366 days</td>\n",
              "    </tr>\n",
              "    <tr>\n",
              "      <th>126</th>\n",
              "      <td>Natal</td>\n",
              "      <td>2019-01-02</td>\n",
              "      <td>41.69</td>\n",
              "      <td>1036</td>\n",
              "      <td>2</td>\n",
              "      <td>83.38</td>\n",
              "      <td>2019</td>\n",
              "      <td>1</td>\n",
              "      <td>2</td>\n",
              "      <td>366 days</td>\n",
              "    </tr>\n",
              "    <tr>\n",
              "      <th>27</th>\n",
              "      <td>Natal</td>\n",
              "      <td>2018-07-16</td>\n",
              "      <td>390.00</td>\n",
              "      <td>853</td>\n",
              "      <td>3</td>\n",
              "      <td>1170.00</td>\n",
              "      <td>2018</td>\n",
              "      <td>7</td>\n",
              "      <td>16</td>\n",
              "      <td>196 days</td>\n",
              "    </tr>\n",
              "  </tbody>\n",
              "</table>\n",
              "</div>"
            ],
            "text/plain": [
              "       Cidade       Data  Vendas  ...  mes_venda  dia_venda  diferenca_dias\n",
              "81   Salvador 2019-01-01   17.36  ...          1          1        365 days\n",
              "101    Recife 2019-01-01  172.55  ...          1          1        365 days\n",
              "161     Natal 2019-01-02    5.80  ...          1          2        366 days\n",
              "126     Natal 2019-01-02   41.69  ...          1          2        366 days\n",
              "27      Natal 2018-07-16  390.00  ...          7         16        196 days\n",
              "\n",
              "[5 rows x 10 columns]"
            ]
          },
          "metadata": {},
          "execution_count": 17
        }
      ]
    },
    {
      "cell_type": "code",
      "metadata": {
        "id": "yZ1oOk46Knq_"
      },
      "source": [
        "# Crinado uma coluna de trimestre\n",
        "df['trimestre_venda'] = df['Data'].dt.quarter"
      ],
      "execution_count": null,
      "outputs": []
    },
    {
      "cell_type": "code",
      "metadata": {
        "colab": {
          "base_uri": "https://localhost:8080/",
          "height": 204
        },
        "id": "JiW8xomnL7Xn",
        "outputId": "81536e25-b654-44e5-c842-af0c3605a6c6"
      },
      "source": [
        "df.sample(5)"
      ],
      "execution_count": null,
      "outputs": [
        {
          "output_type": "execute_result",
          "data": {
            "text/html": [
              "<div>\n",
              "<style scoped>\n",
              "    .dataframe tbody tr th:only-of-type {\n",
              "        vertical-align: middle;\n",
              "    }\n",
              "\n",
              "    .dataframe tbody tr th {\n",
              "        vertical-align: top;\n",
              "    }\n",
              "\n",
              "    .dataframe thead th {\n",
              "        text-align: right;\n",
              "    }\n",
              "</style>\n",
              "<table border=\"1\" class=\"dataframe\">\n",
              "  <thead>\n",
              "    <tr style=\"text-align: right;\">\n",
              "      <th></th>\n",
              "      <th>Cidade</th>\n",
              "      <th>Data</th>\n",
              "      <th>Vendas</th>\n",
              "      <th>LojaID</th>\n",
              "      <th>Qtde</th>\n",
              "      <th>Receita</th>\n",
              "      <th>Ano_venda</th>\n",
              "      <th>mes_venda</th>\n",
              "      <th>dia_venda</th>\n",
              "      <th>diferenca_dias</th>\n",
              "      <th>trimestre_venda</th>\n",
              "    </tr>\n",
              "  </thead>\n",
              "  <tbody>\n",
              "    <tr>\n",
              "      <th>226</th>\n",
              "      <td>Salvador</td>\n",
              "      <td>2019-01-02</td>\n",
              "      <td>38.32</td>\n",
              "      <td>1035</td>\n",
              "      <td>2</td>\n",
              "      <td>76.64</td>\n",
              "      <td>2019</td>\n",
              "      <td>1</td>\n",
              "      <td>2</td>\n",
              "      <td>366 days</td>\n",
              "      <td>1</td>\n",
              "    </tr>\n",
              "    <tr>\n",
              "      <th>78</th>\n",
              "      <td>Aracaju</td>\n",
              "      <td>2018-01-01</td>\n",
              "      <td>154.85</td>\n",
              "      <td>1522</td>\n",
              "      <td>9</td>\n",
              "      <td>1393.65</td>\n",
              "      <td>2018</td>\n",
              "      <td>1</td>\n",
              "      <td>1</td>\n",
              "      <td>0 days</td>\n",
              "      <td>1</td>\n",
              "    </tr>\n",
              "    <tr>\n",
              "      <th>68</th>\n",
              "      <td>Recife</td>\n",
              "      <td>2019-01-01</td>\n",
              "      <td>175.45</td>\n",
              "      <td>980</td>\n",
              "      <td>3</td>\n",
              "      <td>526.35</td>\n",
              "      <td>2019</td>\n",
              "      <td>1</td>\n",
              "      <td>1</td>\n",
              "      <td>365 days</td>\n",
              "      <td>1</td>\n",
              "    </tr>\n",
              "    <tr>\n",
              "      <th>180</th>\n",
              "      <td>Salvador</td>\n",
              "      <td>2019-01-02</td>\n",
              "      <td>116.63</td>\n",
              "      <td>1035</td>\n",
              "      <td>2</td>\n",
              "      <td>233.26</td>\n",
              "      <td>2019</td>\n",
              "      <td>1</td>\n",
              "      <td>2</td>\n",
              "      <td>366 days</td>\n",
              "      <td>1</td>\n",
              "    </tr>\n",
              "    <tr>\n",
              "      <th>32</th>\n",
              "      <td>Natal</td>\n",
              "      <td>2019-03-17</td>\n",
              "      <td>244.00</td>\n",
              "      <td>854</td>\n",
              "      <td>2</td>\n",
              "      <td>488.00</td>\n",
              "      <td>2019</td>\n",
              "      <td>3</td>\n",
              "      <td>17</td>\n",
              "      <td>440 days</td>\n",
              "      <td>1</td>\n",
              "    </tr>\n",
              "  </tbody>\n",
              "</table>\n",
              "</div>"
            ],
            "text/plain": [
              "       Cidade       Data  Vendas  ...  dia_venda  diferenca_dias  trimestre_venda\n",
              "226  Salvador 2019-01-02   38.32  ...          2        366 days                1\n",
              "78    Aracaju 2018-01-01  154.85  ...          1          0 days                1\n",
              "68     Recife 2019-01-01  175.45  ...          1        365 days                1\n",
              "180  Salvador 2019-01-02  116.63  ...          2        366 days                1\n",
              "32      Natal 2019-03-17  244.00  ...         17        440 days                1\n",
              "\n",
              "[5 rows x 11 columns]"
            ]
          },
          "metadata": {},
          "execution_count": 19
        }
      ]
    },
    {
      "cell_type": "markdown",
      "metadata": {
        "id": "BPkYaH3sMIoF"
      },
      "source": [
        "## Filtrando colunas de Data"
      ]
    },
    {
      "cell_type": "code",
      "metadata": {
        "id": "ymGGrYaOL9vP"
      },
      "source": [
        "# Filtrando as vendas de 2019 do mês de março\n",
        "vendas_marco_2019 = df.loc[(df['Data'].dt.year == 2019) & (df['Data'].dt.month == 3)]"
      ],
      "execution_count": null,
      "outputs": []
    },
    {
      "cell_type": "code",
      "metadata": {
        "colab": {
          "base_uri": "https://localhost:8080/",
          "height": 419
        },
        "id": "NMNd0kBPM3wt",
        "outputId": "c8ce94e7-593d-44ac-ef16-1bbf4fb44321"
      },
      "source": [
        "vendas_marco_2019"
      ],
      "execution_count": null,
      "outputs": [
        {
          "output_type": "execute_result",
          "data": {
            "text/html": [
              "<div>\n",
              "<style scoped>\n",
              "    .dataframe tbody tr th:only-of-type {\n",
              "        vertical-align: middle;\n",
              "    }\n",
              "\n",
              "    .dataframe tbody tr th {\n",
              "        vertical-align: top;\n",
              "    }\n",
              "\n",
              "    .dataframe thead th {\n",
              "        text-align: right;\n",
              "    }\n",
              "</style>\n",
              "<table border=\"1\" class=\"dataframe\">\n",
              "  <thead>\n",
              "    <tr style=\"text-align: right;\">\n",
              "      <th></th>\n",
              "      <th>Cidade</th>\n",
              "      <th>Data</th>\n",
              "      <th>Vendas</th>\n",
              "      <th>LojaID</th>\n",
              "      <th>Qtde</th>\n",
              "      <th>Receita</th>\n",
              "      <th>Ano_venda</th>\n",
              "      <th>mes_venda</th>\n",
              "      <th>dia_venda</th>\n",
              "      <th>diferenca_dias</th>\n",
              "      <th>trimestre_venda</th>\n",
              "    </tr>\n",
              "  </thead>\n",
              "  <tbody>\n",
              "    <tr>\n",
              "      <th>108</th>\n",
              "      <td>Fortaleza</td>\n",
              "      <td>2019-03-02</td>\n",
              "      <td>152.89</td>\n",
              "      <td>981</td>\n",
              "      <td>4</td>\n",
              "      <td>611.56</td>\n",
              "      <td>2019</td>\n",
              "      <td>3</td>\n",
              "      <td>2</td>\n",
              "      <td>425 days</td>\n",
              "      <td>1</td>\n",
              "    </tr>\n",
              "    <tr>\n",
              "      <th>109</th>\n",
              "      <td>Fortaleza</td>\n",
              "      <td>2019-03-02</td>\n",
              "      <td>18.90</td>\n",
              "      <td>982</td>\n",
              "      <td>6</td>\n",
              "      <td>113.40</td>\n",
              "      <td>2019</td>\n",
              "      <td>3</td>\n",
              "      <td>2</td>\n",
              "      <td>425 days</td>\n",
              "      <td>1</td>\n",
              "    </tr>\n",
              "    <tr>\n",
              "      <th>110</th>\n",
              "      <td>Fortaleza</td>\n",
              "      <td>2019-03-02</td>\n",
              "      <td>51.98</td>\n",
              "      <td>983</td>\n",
              "      <td>6</td>\n",
              "      <td>311.88</td>\n",
              "      <td>2019</td>\n",
              "      <td>3</td>\n",
              "      <td>2</td>\n",
              "      <td>425 days</td>\n",
              "      <td>1</td>\n",
              "    </tr>\n",
              "    <tr>\n",
              "      <th>111</th>\n",
              "      <td>Fortaleza</td>\n",
              "      <td>2019-03-02</td>\n",
              "      <td>8.00</td>\n",
              "      <td>981</td>\n",
              "      <td>3</td>\n",
              "      <td>24.00</td>\n",
              "      <td>2019</td>\n",
              "      <td>3</td>\n",
              "      <td>2</td>\n",
              "      <td>425 days</td>\n",
              "      <td>1</td>\n",
              "    </tr>\n",
              "    <tr>\n",
              "      <th>112</th>\n",
              "      <td>Fortaleza</td>\n",
              "      <td>2019-03-02</td>\n",
              "      <td>133.59</td>\n",
              "      <td>982</td>\n",
              "      <td>1</td>\n",
              "      <td>133.59</td>\n",
              "      <td>2019</td>\n",
              "      <td>3</td>\n",
              "      <td>2</td>\n",
              "      <td>425 days</td>\n",
              "      <td>1</td>\n",
              "    </tr>\n",
              "    <tr>\n",
              "      <th>...</th>\n",
              "      <td>...</td>\n",
              "      <td>...</td>\n",
              "      <td>...</td>\n",
              "      <td>...</td>\n",
              "      <td>...</td>\n",
              "      <td>...</td>\n",
              "      <td>...</td>\n",
              "      <td>...</td>\n",
              "      <td>...</td>\n",
              "      <td>...</td>\n",
              "      <td>...</td>\n",
              "    </tr>\n",
              "    <tr>\n",
              "      <th>137</th>\n",
              "      <td>Salvador</td>\n",
              "      <td>2019-03-02</td>\n",
              "      <td>51.66</td>\n",
              "      <td>1036</td>\n",
              "      <td>3</td>\n",
              "      <td>154.98</td>\n",
              "      <td>2019</td>\n",
              "      <td>3</td>\n",
              "      <td>2</td>\n",
              "      <td>425 days</td>\n",
              "      <td>1</td>\n",
              "    </tr>\n",
              "    <tr>\n",
              "      <th>138</th>\n",
              "      <td>Salvador</td>\n",
              "      <td>2019-03-02</td>\n",
              "      <td>212.03</td>\n",
              "      <td>1037</td>\n",
              "      <td>3</td>\n",
              "      <td>636.09</td>\n",
              "      <td>2019</td>\n",
              "      <td>3</td>\n",
              "      <td>2</td>\n",
              "      <td>425 days</td>\n",
              "      <td>1</td>\n",
              "    </tr>\n",
              "    <tr>\n",
              "      <th>139</th>\n",
              "      <td>Salvador</td>\n",
              "      <td>2019-03-02</td>\n",
              "      <td>169.01</td>\n",
              "      <td>1036</td>\n",
              "      <td>1</td>\n",
              "      <td>169.01</td>\n",
              "      <td>2019</td>\n",
              "      <td>3</td>\n",
              "      <td>2</td>\n",
              "      <td>425 days</td>\n",
              "      <td>1</td>\n",
              "    </tr>\n",
              "    <tr>\n",
              "      <th>140</th>\n",
              "      <td>Salvador</td>\n",
              "      <td>2019-03-02</td>\n",
              "      <td>20.79</td>\n",
              "      <td>1036</td>\n",
              "      <td>2</td>\n",
              "      <td>41.58</td>\n",
              "      <td>2019</td>\n",
              "      <td>3</td>\n",
              "      <td>2</td>\n",
              "      <td>425 days</td>\n",
              "      <td>1</td>\n",
              "    </tr>\n",
              "    <tr>\n",
              "      <th>141</th>\n",
              "      <td>Salvador</td>\n",
              "      <td>2019-03-02</td>\n",
              "      <td>9.08</td>\n",
              "      <td>1036</td>\n",
              "      <td>1</td>\n",
              "      <td>9.08</td>\n",
              "      <td>2019</td>\n",
              "      <td>3</td>\n",
              "      <td>2</td>\n",
              "      <td>425 days</td>\n",
              "      <td>1</td>\n",
              "    </tr>\n",
              "  </tbody>\n",
              "</table>\n",
              "<p>121 rows × 11 columns</p>\n",
              "</div>"
            ],
            "text/plain": [
              "        Cidade       Data  Vendas  ...  dia_venda  diferenca_dias  trimestre_venda\n",
              "108  Fortaleza 2019-03-02  152.89  ...          2        425 days                1\n",
              "109  Fortaleza 2019-03-02   18.90  ...          2        425 days                1\n",
              "110  Fortaleza 2019-03-02   51.98  ...          2        425 days                1\n",
              "111  Fortaleza 2019-03-02    8.00  ...          2        425 days                1\n",
              "112  Fortaleza 2019-03-02  133.59  ...          2        425 days                1\n",
              "..         ...        ...     ...  ...        ...             ...              ...\n",
              "137   Salvador 2019-03-02   51.66  ...          2        425 days                1\n",
              "138   Salvador 2019-03-02  212.03  ...          2        425 days                1\n",
              "139   Salvador 2019-03-02  169.01  ...          2        425 days                1\n",
              "140   Salvador 2019-03-02   20.79  ...          2        425 days                1\n",
              "141   Salvador 2019-03-02    9.08  ...          2        425 days                1\n",
              "\n",
              "[121 rows x 11 columns]"
            ]
          },
          "metadata": {},
          "execution_count": 21
        }
      ]
    },
    {
      "cell_type": "markdown",
      "metadata": {
        "id": "hhR-pXFxNhKu"
      },
      "source": [
        "# Visualização de dados"
      ]
    },
    {
      "cell_type": "code",
      "metadata": {
        "colab": {
          "base_uri": "https://localhost:8080/"
        },
        "id": "hnUZA2CuNlb1",
        "outputId": "0079e6cd-c1dc-4d13-c711-87f34dde083c"
      },
      "source": [
        "# Fazendo uma contagem de qual loja teve o maior numero de vendas\n",
        "df['LojaID'].value_counts(ascending=False)"
      ],
      "execution_count": null,
      "outputs": [
        {
          "output_type": "execute_result",
          "data": {
            "text/plain": [
              "1036    117\n",
              "1035    112\n",
              "1037    101\n",
              "1034     67\n",
              "983      65\n",
              "982      44\n",
              "1522     41\n",
              "1520     39\n",
              "980      36\n",
              "981      31\n",
              "1005     30\n",
              "1002     30\n",
              "1523     29\n",
              "852      29\n",
              "1004     28\n",
              "854      28\n",
              "853      26\n",
              "1521     21\n",
              "1003     20\n",
              "Name: LojaID, dtype: int64"
            ]
          },
          "metadata": {},
          "execution_count": 22
        }
      ]
    },
    {
      "cell_type": "markdown",
      "metadata": {
        "id": "mDaMiuXyJXYr"
      },
      "source": [
        "### Criando uma Tabela de Frequência"
      ]
    },
    {
      "cell_type": "code",
      "metadata": {
        "colab": {
          "base_uri": "https://localhost:8080/",
          "height": 638
        },
        "id": "WMTTR16qJddQ",
        "outputId": "b7dab058-6718-4cc1-ba29-26809c3a9123"
      },
      "source": [
        "# Criando tabela de frequência\n",
        "tb_frequencia = pd.merge(\n",
        "    left = df['LojaID'].value_counts(ascending=False, sort=False),\n",
        "    right = df['LojaID'].value_counts(ascending=False, normalize=True, sort=False),\n",
        "    left_index = True,\n",
        "    right_index = True\n",
        ")\n",
        "\n",
        "tb_frequencia"
      ],
      "execution_count": null,
      "outputs": [
        {
          "output_type": "execute_result",
          "data": {
            "text/html": [
              "<div>\n",
              "<style scoped>\n",
              "    .dataframe tbody tr th:only-of-type {\n",
              "        vertical-align: middle;\n",
              "    }\n",
              "\n",
              "    .dataframe tbody tr th {\n",
              "        vertical-align: top;\n",
              "    }\n",
              "\n",
              "    .dataframe thead th {\n",
              "        text-align: right;\n",
              "    }\n",
              "</style>\n",
              "<table border=\"1\" class=\"dataframe\">\n",
              "  <thead>\n",
              "    <tr style=\"text-align: right;\">\n",
              "      <th></th>\n",
              "      <th>LojaID_x</th>\n",
              "      <th>LojaID_y</th>\n",
              "    </tr>\n",
              "  </thead>\n",
              "  <tbody>\n",
              "    <tr>\n",
              "      <th>1034</th>\n",
              "      <td>67</td>\n",
              "      <td>0.074944</td>\n",
              "    </tr>\n",
              "    <tr>\n",
              "      <th>1035</th>\n",
              "      <td>112</td>\n",
              "      <td>0.125280</td>\n",
              "    </tr>\n",
              "    <tr>\n",
              "      <th>1036</th>\n",
              "      <td>117</td>\n",
              "      <td>0.130872</td>\n",
              "    </tr>\n",
              "    <tr>\n",
              "      <th>1037</th>\n",
              "      <td>101</td>\n",
              "      <td>0.112975</td>\n",
              "    </tr>\n",
              "    <tr>\n",
              "      <th>1520</th>\n",
              "      <td>39</td>\n",
              "      <td>0.043624</td>\n",
              "    </tr>\n",
              "    <tr>\n",
              "      <th>1521</th>\n",
              "      <td>21</td>\n",
              "      <td>0.023490</td>\n",
              "    </tr>\n",
              "    <tr>\n",
              "      <th>1522</th>\n",
              "      <td>41</td>\n",
              "      <td>0.045861</td>\n",
              "    </tr>\n",
              "    <tr>\n",
              "      <th>1523</th>\n",
              "      <td>29</td>\n",
              "      <td>0.032438</td>\n",
              "    </tr>\n",
              "    <tr>\n",
              "      <th>852</th>\n",
              "      <td>29</td>\n",
              "      <td>0.032438</td>\n",
              "    </tr>\n",
              "    <tr>\n",
              "      <th>853</th>\n",
              "      <td>26</td>\n",
              "      <td>0.029083</td>\n",
              "    </tr>\n",
              "    <tr>\n",
              "      <th>854</th>\n",
              "      <td>28</td>\n",
              "      <td>0.031320</td>\n",
              "    </tr>\n",
              "    <tr>\n",
              "      <th>980</th>\n",
              "      <td>36</td>\n",
              "      <td>0.040268</td>\n",
              "    </tr>\n",
              "    <tr>\n",
              "      <th>981</th>\n",
              "      <td>31</td>\n",
              "      <td>0.034676</td>\n",
              "    </tr>\n",
              "    <tr>\n",
              "      <th>982</th>\n",
              "      <td>44</td>\n",
              "      <td>0.049217</td>\n",
              "    </tr>\n",
              "    <tr>\n",
              "      <th>983</th>\n",
              "      <td>65</td>\n",
              "      <td>0.072707</td>\n",
              "    </tr>\n",
              "    <tr>\n",
              "      <th>1002</th>\n",
              "      <td>30</td>\n",
              "      <td>0.033557</td>\n",
              "    </tr>\n",
              "    <tr>\n",
              "      <th>1003</th>\n",
              "      <td>20</td>\n",
              "      <td>0.022371</td>\n",
              "    </tr>\n",
              "    <tr>\n",
              "      <th>1004</th>\n",
              "      <td>28</td>\n",
              "      <td>0.031320</td>\n",
              "    </tr>\n",
              "    <tr>\n",
              "      <th>1005</th>\n",
              "      <td>30</td>\n",
              "      <td>0.033557</td>\n",
              "    </tr>\n",
              "  </tbody>\n",
              "</table>\n",
              "</div>"
            ],
            "text/plain": [
              "      LojaID_x  LojaID_y\n",
              "1034        67  0.074944\n",
              "1035       112  0.125280\n",
              "1036       117  0.130872\n",
              "1037       101  0.112975\n",
              "1520        39  0.043624\n",
              "1521        21  0.023490\n",
              "1522        41  0.045861\n",
              "1523        29  0.032438\n",
              "852         29  0.032438\n",
              "853         26  0.029083\n",
              "854         28  0.031320\n",
              "980         36  0.040268\n",
              "981         31  0.034676\n",
              "982         44  0.049217\n",
              "983         65  0.072707\n",
              "1002        30  0.033557\n",
              "1003        20  0.022371\n",
              "1004        28  0.031320\n",
              "1005        30  0.033557"
            ]
          },
          "metadata": {},
          "execution_count": 48
        }
      ]
    },
    {
      "cell_type": "code",
      "metadata": {
        "colab": {
          "base_uri": "https://localhost:8080/",
          "height": 669
        },
        "id": "gQmoFzyiJdR-",
        "outputId": "d2eaadd6-a7b3-4c07-ed92-4636e77752ad"
      },
      "source": [
        "# Renomeando colunas da tabela de Frequência\n",
        "tb_frequencia.rename(columns={\n",
        "    'LojaID_x' : 'Frequência (Vendas)',\n",
        "    \"LojaID_y\" : 'Percentual (Vendas)'\n",
        "}, inplace = True)\n",
        "\n",
        "# Renomeando index\n",
        "tb_frequencia.rename_axis('ID_Loja', inplace=True)\n",
        "\n",
        "tb_frequencia"
      ],
      "execution_count": null,
      "outputs": [
        {
          "output_type": "execute_result",
          "data": {
            "text/html": [
              "<div>\n",
              "<style scoped>\n",
              "    .dataframe tbody tr th:only-of-type {\n",
              "        vertical-align: middle;\n",
              "    }\n",
              "\n",
              "    .dataframe tbody tr th {\n",
              "        vertical-align: top;\n",
              "    }\n",
              "\n",
              "    .dataframe thead th {\n",
              "        text-align: right;\n",
              "    }\n",
              "</style>\n",
              "<table border=\"1\" class=\"dataframe\">\n",
              "  <thead>\n",
              "    <tr style=\"text-align: right;\">\n",
              "      <th></th>\n",
              "      <th>Frequência (Vendas)</th>\n",
              "      <th>Percentual (Vendas)</th>\n",
              "    </tr>\n",
              "    <tr>\n",
              "      <th>ID_Loja</th>\n",
              "      <th></th>\n",
              "      <th></th>\n",
              "    </tr>\n",
              "  </thead>\n",
              "  <tbody>\n",
              "    <tr>\n",
              "      <th>1034</th>\n",
              "      <td>67</td>\n",
              "      <td>0.074944</td>\n",
              "    </tr>\n",
              "    <tr>\n",
              "      <th>1035</th>\n",
              "      <td>112</td>\n",
              "      <td>0.125280</td>\n",
              "    </tr>\n",
              "    <tr>\n",
              "      <th>1036</th>\n",
              "      <td>117</td>\n",
              "      <td>0.130872</td>\n",
              "    </tr>\n",
              "    <tr>\n",
              "      <th>1037</th>\n",
              "      <td>101</td>\n",
              "      <td>0.112975</td>\n",
              "    </tr>\n",
              "    <tr>\n",
              "      <th>1520</th>\n",
              "      <td>39</td>\n",
              "      <td>0.043624</td>\n",
              "    </tr>\n",
              "    <tr>\n",
              "      <th>1521</th>\n",
              "      <td>21</td>\n",
              "      <td>0.023490</td>\n",
              "    </tr>\n",
              "    <tr>\n",
              "      <th>1522</th>\n",
              "      <td>41</td>\n",
              "      <td>0.045861</td>\n",
              "    </tr>\n",
              "    <tr>\n",
              "      <th>1523</th>\n",
              "      <td>29</td>\n",
              "      <td>0.032438</td>\n",
              "    </tr>\n",
              "    <tr>\n",
              "      <th>852</th>\n",
              "      <td>29</td>\n",
              "      <td>0.032438</td>\n",
              "    </tr>\n",
              "    <tr>\n",
              "      <th>853</th>\n",
              "      <td>26</td>\n",
              "      <td>0.029083</td>\n",
              "    </tr>\n",
              "    <tr>\n",
              "      <th>854</th>\n",
              "      <td>28</td>\n",
              "      <td>0.031320</td>\n",
              "    </tr>\n",
              "    <tr>\n",
              "      <th>980</th>\n",
              "      <td>36</td>\n",
              "      <td>0.040268</td>\n",
              "    </tr>\n",
              "    <tr>\n",
              "      <th>981</th>\n",
              "      <td>31</td>\n",
              "      <td>0.034676</td>\n",
              "    </tr>\n",
              "    <tr>\n",
              "      <th>982</th>\n",
              "      <td>44</td>\n",
              "      <td>0.049217</td>\n",
              "    </tr>\n",
              "    <tr>\n",
              "      <th>983</th>\n",
              "      <td>65</td>\n",
              "      <td>0.072707</td>\n",
              "    </tr>\n",
              "    <tr>\n",
              "      <th>1002</th>\n",
              "      <td>30</td>\n",
              "      <td>0.033557</td>\n",
              "    </tr>\n",
              "    <tr>\n",
              "      <th>1003</th>\n",
              "      <td>20</td>\n",
              "      <td>0.022371</td>\n",
              "    </tr>\n",
              "    <tr>\n",
              "      <th>1004</th>\n",
              "      <td>28</td>\n",
              "      <td>0.031320</td>\n",
              "    </tr>\n",
              "    <tr>\n",
              "      <th>1005</th>\n",
              "      <td>30</td>\n",
              "      <td>0.033557</td>\n",
              "    </tr>\n",
              "  </tbody>\n",
              "</table>\n",
              "</div>"
            ],
            "text/plain": [
              "         Frequência (Vendas)  Percentual (Vendas)\n",
              "ID_Loja                                          \n",
              "1034                      67             0.074944\n",
              "1035                     112             0.125280\n",
              "1036                     117             0.130872\n",
              "1037                     101             0.112975\n",
              "1520                      39             0.043624\n",
              "1521                      21             0.023490\n",
              "1522                      41             0.045861\n",
              "1523                      29             0.032438\n",
              "852                       29             0.032438\n",
              "853                       26             0.029083\n",
              "854                       28             0.031320\n",
              "980                       36             0.040268\n",
              "981                       31             0.034676\n",
              "982                       44             0.049217\n",
              "983                       65             0.072707\n",
              "1002                      30             0.033557\n",
              "1003                      20             0.022371\n",
              "1004                      28             0.031320\n",
              "1005                      30             0.033557"
            ]
          },
          "metadata": {},
          "execution_count": 49
        }
      ]
    },
    {
      "cell_type": "code",
      "metadata": {
        "colab": {
          "base_uri": "https://localhost:8080/",
          "height": 460
        },
        "id": "qs5q3332MOMr",
        "outputId": "db3696ec-9e71-47d0-9ea2-dff063f8ff1a"
      },
      "source": [
        "# Formatando valores de uma variável\n",
        "tb_frequencia.style.format({'Percentual (Vendas)' : '{:.2%}'})"
      ],
      "execution_count": null,
      "outputs": [
        {
          "output_type": "execute_result",
          "data": {
            "text/html": [
              "<style  type=\"text/css\" >\n",
              "</style><table id=\"T_b9546c20_085b_11ec_b816_0242ac1c0002\" ><thead>    <tr>        <th class=\"blank level0\" ></th>        <th class=\"col_heading level0 col0\" >Frequência (Vendas)</th>        <th class=\"col_heading level0 col1\" >Percentual (Vendas)</th>    </tr>    <tr>        <th class=\"index_name level0\" >ID_Loja</th>        <th class=\"blank\" ></th>        <th class=\"blank\" ></th>    </tr></thead><tbody>\n",
              "                <tr>\n",
              "                        <th id=\"T_b9546c20_085b_11ec_b816_0242ac1c0002level0_row0\" class=\"row_heading level0 row0\" >1034</th>\n",
              "                        <td id=\"T_b9546c20_085b_11ec_b816_0242ac1c0002row0_col0\" class=\"data row0 col0\" >67</td>\n",
              "                        <td id=\"T_b9546c20_085b_11ec_b816_0242ac1c0002row0_col1\" class=\"data row0 col1\" >7.49%</td>\n",
              "            </tr>\n",
              "            <tr>\n",
              "                        <th id=\"T_b9546c20_085b_11ec_b816_0242ac1c0002level0_row1\" class=\"row_heading level0 row1\" >1035</th>\n",
              "                        <td id=\"T_b9546c20_085b_11ec_b816_0242ac1c0002row1_col0\" class=\"data row1 col0\" >112</td>\n",
              "                        <td id=\"T_b9546c20_085b_11ec_b816_0242ac1c0002row1_col1\" class=\"data row1 col1\" >12.53%</td>\n",
              "            </tr>\n",
              "            <tr>\n",
              "                        <th id=\"T_b9546c20_085b_11ec_b816_0242ac1c0002level0_row2\" class=\"row_heading level0 row2\" >1036</th>\n",
              "                        <td id=\"T_b9546c20_085b_11ec_b816_0242ac1c0002row2_col0\" class=\"data row2 col0\" >117</td>\n",
              "                        <td id=\"T_b9546c20_085b_11ec_b816_0242ac1c0002row2_col1\" class=\"data row2 col1\" >13.09%</td>\n",
              "            </tr>\n",
              "            <tr>\n",
              "                        <th id=\"T_b9546c20_085b_11ec_b816_0242ac1c0002level0_row3\" class=\"row_heading level0 row3\" >1037</th>\n",
              "                        <td id=\"T_b9546c20_085b_11ec_b816_0242ac1c0002row3_col0\" class=\"data row3 col0\" >101</td>\n",
              "                        <td id=\"T_b9546c20_085b_11ec_b816_0242ac1c0002row3_col1\" class=\"data row3 col1\" >11.30%</td>\n",
              "            </tr>\n",
              "            <tr>\n",
              "                        <th id=\"T_b9546c20_085b_11ec_b816_0242ac1c0002level0_row4\" class=\"row_heading level0 row4\" >1520</th>\n",
              "                        <td id=\"T_b9546c20_085b_11ec_b816_0242ac1c0002row4_col0\" class=\"data row4 col0\" >39</td>\n",
              "                        <td id=\"T_b9546c20_085b_11ec_b816_0242ac1c0002row4_col1\" class=\"data row4 col1\" >4.36%</td>\n",
              "            </tr>\n",
              "            <tr>\n",
              "                        <th id=\"T_b9546c20_085b_11ec_b816_0242ac1c0002level0_row5\" class=\"row_heading level0 row5\" >1521</th>\n",
              "                        <td id=\"T_b9546c20_085b_11ec_b816_0242ac1c0002row5_col0\" class=\"data row5 col0\" >21</td>\n",
              "                        <td id=\"T_b9546c20_085b_11ec_b816_0242ac1c0002row5_col1\" class=\"data row5 col1\" >2.35%</td>\n",
              "            </tr>\n",
              "            <tr>\n",
              "                        <th id=\"T_b9546c20_085b_11ec_b816_0242ac1c0002level0_row6\" class=\"row_heading level0 row6\" >1522</th>\n",
              "                        <td id=\"T_b9546c20_085b_11ec_b816_0242ac1c0002row6_col0\" class=\"data row6 col0\" >41</td>\n",
              "                        <td id=\"T_b9546c20_085b_11ec_b816_0242ac1c0002row6_col1\" class=\"data row6 col1\" >4.59%</td>\n",
              "            </tr>\n",
              "            <tr>\n",
              "                        <th id=\"T_b9546c20_085b_11ec_b816_0242ac1c0002level0_row7\" class=\"row_heading level0 row7\" >1523</th>\n",
              "                        <td id=\"T_b9546c20_085b_11ec_b816_0242ac1c0002row7_col0\" class=\"data row7 col0\" >29</td>\n",
              "                        <td id=\"T_b9546c20_085b_11ec_b816_0242ac1c0002row7_col1\" class=\"data row7 col1\" >3.24%</td>\n",
              "            </tr>\n",
              "            <tr>\n",
              "                        <th id=\"T_b9546c20_085b_11ec_b816_0242ac1c0002level0_row8\" class=\"row_heading level0 row8\" >852</th>\n",
              "                        <td id=\"T_b9546c20_085b_11ec_b816_0242ac1c0002row8_col0\" class=\"data row8 col0\" >29</td>\n",
              "                        <td id=\"T_b9546c20_085b_11ec_b816_0242ac1c0002row8_col1\" class=\"data row8 col1\" >3.24%</td>\n",
              "            </tr>\n",
              "            <tr>\n",
              "                        <th id=\"T_b9546c20_085b_11ec_b816_0242ac1c0002level0_row9\" class=\"row_heading level0 row9\" >853</th>\n",
              "                        <td id=\"T_b9546c20_085b_11ec_b816_0242ac1c0002row9_col0\" class=\"data row9 col0\" >26</td>\n",
              "                        <td id=\"T_b9546c20_085b_11ec_b816_0242ac1c0002row9_col1\" class=\"data row9 col1\" >2.91%</td>\n",
              "            </tr>\n",
              "            <tr>\n",
              "                        <th id=\"T_b9546c20_085b_11ec_b816_0242ac1c0002level0_row10\" class=\"row_heading level0 row10\" >854</th>\n",
              "                        <td id=\"T_b9546c20_085b_11ec_b816_0242ac1c0002row10_col0\" class=\"data row10 col0\" >28</td>\n",
              "                        <td id=\"T_b9546c20_085b_11ec_b816_0242ac1c0002row10_col1\" class=\"data row10 col1\" >3.13%</td>\n",
              "            </tr>\n",
              "            <tr>\n",
              "                        <th id=\"T_b9546c20_085b_11ec_b816_0242ac1c0002level0_row11\" class=\"row_heading level0 row11\" >980</th>\n",
              "                        <td id=\"T_b9546c20_085b_11ec_b816_0242ac1c0002row11_col0\" class=\"data row11 col0\" >36</td>\n",
              "                        <td id=\"T_b9546c20_085b_11ec_b816_0242ac1c0002row11_col1\" class=\"data row11 col1\" >4.03%</td>\n",
              "            </tr>\n",
              "            <tr>\n",
              "                        <th id=\"T_b9546c20_085b_11ec_b816_0242ac1c0002level0_row12\" class=\"row_heading level0 row12\" >981</th>\n",
              "                        <td id=\"T_b9546c20_085b_11ec_b816_0242ac1c0002row12_col0\" class=\"data row12 col0\" >31</td>\n",
              "                        <td id=\"T_b9546c20_085b_11ec_b816_0242ac1c0002row12_col1\" class=\"data row12 col1\" >3.47%</td>\n",
              "            </tr>\n",
              "            <tr>\n",
              "                        <th id=\"T_b9546c20_085b_11ec_b816_0242ac1c0002level0_row13\" class=\"row_heading level0 row13\" >982</th>\n",
              "                        <td id=\"T_b9546c20_085b_11ec_b816_0242ac1c0002row13_col0\" class=\"data row13 col0\" >44</td>\n",
              "                        <td id=\"T_b9546c20_085b_11ec_b816_0242ac1c0002row13_col1\" class=\"data row13 col1\" >4.92%</td>\n",
              "            </tr>\n",
              "            <tr>\n",
              "                        <th id=\"T_b9546c20_085b_11ec_b816_0242ac1c0002level0_row14\" class=\"row_heading level0 row14\" >983</th>\n",
              "                        <td id=\"T_b9546c20_085b_11ec_b816_0242ac1c0002row14_col0\" class=\"data row14 col0\" >65</td>\n",
              "                        <td id=\"T_b9546c20_085b_11ec_b816_0242ac1c0002row14_col1\" class=\"data row14 col1\" >7.27%</td>\n",
              "            </tr>\n",
              "            <tr>\n",
              "                        <th id=\"T_b9546c20_085b_11ec_b816_0242ac1c0002level0_row15\" class=\"row_heading level0 row15\" >1002</th>\n",
              "                        <td id=\"T_b9546c20_085b_11ec_b816_0242ac1c0002row15_col0\" class=\"data row15 col0\" >30</td>\n",
              "                        <td id=\"T_b9546c20_085b_11ec_b816_0242ac1c0002row15_col1\" class=\"data row15 col1\" >3.36%</td>\n",
              "            </tr>\n",
              "            <tr>\n",
              "                        <th id=\"T_b9546c20_085b_11ec_b816_0242ac1c0002level0_row16\" class=\"row_heading level0 row16\" >1003</th>\n",
              "                        <td id=\"T_b9546c20_085b_11ec_b816_0242ac1c0002row16_col0\" class=\"data row16 col0\" >20</td>\n",
              "                        <td id=\"T_b9546c20_085b_11ec_b816_0242ac1c0002row16_col1\" class=\"data row16 col1\" >2.24%</td>\n",
              "            </tr>\n",
              "            <tr>\n",
              "                        <th id=\"T_b9546c20_085b_11ec_b816_0242ac1c0002level0_row17\" class=\"row_heading level0 row17\" >1004</th>\n",
              "                        <td id=\"T_b9546c20_085b_11ec_b816_0242ac1c0002row17_col0\" class=\"data row17 col0\" >28</td>\n",
              "                        <td id=\"T_b9546c20_085b_11ec_b816_0242ac1c0002row17_col1\" class=\"data row17 col1\" >3.13%</td>\n",
              "            </tr>\n",
              "            <tr>\n",
              "                        <th id=\"T_b9546c20_085b_11ec_b816_0242ac1c0002level0_row18\" class=\"row_heading level0 row18\" >1005</th>\n",
              "                        <td id=\"T_b9546c20_085b_11ec_b816_0242ac1c0002row18_col0\" class=\"data row18 col0\" >30</td>\n",
              "                        <td id=\"T_b9546c20_085b_11ec_b816_0242ac1c0002row18_col1\" class=\"data row18 col1\" >3.36%</td>\n",
              "            </tr>\n",
              "    </tbody></table>"
            ],
            "text/plain": [
              "<pandas.io.formats.style.Styler at 0x7f0820c55450>"
            ]
          },
          "metadata": {},
          "execution_count": 50
        }
      ]
    },
    {
      "cell_type": "code",
      "metadata": {
        "colab": {
          "base_uri": "https://localhost:8080/",
          "height": 460
        },
        "id": "FUjiUWMMMutF",
        "outputId": "26d0e379-3fa2-4b1d-8680-1fa13d2408b5"
      },
      "source": [
        "# Desenhando uma barra de fundo\n",
        "tb_frequencia.style.format({'Percentual (Vendas)' : '{:.2%}'}).bar(subset= \"Percentual (Vendas)\", \n",
        "                                                                   vmin= 0.01,\n",
        "                                                                   color= 'lightblue'\n",
        "                                                                   )"
      ],
      "execution_count": null,
      "outputs": [
        {
          "output_type": "execute_result",
          "data": {
            "text/html": [
              "<style  type=\"text/css\" >\n",
              "#T_37bd8aa6_085c_11ec_b816_0242ac1c0002row0_col1{\n",
              "            width:  10em;\n",
              "             height:  80%;\n",
              "            background:  linear-gradient(90deg,lightblue 53.7%, transparent 53.7%);\n",
              "        }#T_37bd8aa6_085c_11ec_b816_0242ac1c0002row1_col1{\n",
              "            width:  10em;\n",
              "             height:  80%;\n",
              "            background:  linear-gradient(90deg,lightblue 95.4%, transparent 95.4%);\n",
              "        }#T_37bd8aa6_085c_11ec_b816_0242ac1c0002row2_col1{\n",
              "            width:  10em;\n",
              "             height:  80%;\n",
              "            background:  linear-gradient(90deg,lightblue 100.0%, transparent 100.0%);\n",
              "        }#T_37bd8aa6_085c_11ec_b816_0242ac1c0002row3_col1{\n",
              "            width:  10em;\n",
              "             height:  80%;\n",
              "            background:  linear-gradient(90deg,lightblue 85.2%, transparent 85.2%);\n",
              "        }#T_37bd8aa6_085c_11ec_b816_0242ac1c0002row4_col1{\n",
              "            width:  10em;\n",
              "             height:  80%;\n",
              "            background:  linear-gradient(90deg,lightblue 27.8%, transparent 27.8%);\n",
              "        }#T_37bd8aa6_085c_11ec_b816_0242ac1c0002row5_col1{\n",
              "            width:  10em;\n",
              "             height:  80%;\n",
              "            background:  linear-gradient(90deg,lightblue 11.2%, transparent 11.2%);\n",
              "        }#T_37bd8aa6_085c_11ec_b816_0242ac1c0002row6_col1{\n",
              "            width:  10em;\n",
              "             height:  80%;\n",
              "            background:  linear-gradient(90deg,lightblue 29.7%, transparent 29.7%);\n",
              "        }#T_37bd8aa6_085c_11ec_b816_0242ac1c0002row7_col1,#T_37bd8aa6_085c_11ec_b816_0242ac1c0002row8_col1{\n",
              "            width:  10em;\n",
              "             height:  80%;\n",
              "            background:  linear-gradient(90deg,lightblue 18.6%, transparent 18.6%);\n",
              "        }#T_37bd8aa6_085c_11ec_b816_0242ac1c0002row9_col1{\n",
              "            width:  10em;\n",
              "             height:  80%;\n",
              "            background:  linear-gradient(90deg,lightblue 15.8%, transparent 15.8%);\n",
              "        }#T_37bd8aa6_085c_11ec_b816_0242ac1c0002row10_col1,#T_37bd8aa6_085c_11ec_b816_0242ac1c0002row17_col1{\n",
              "            width:  10em;\n",
              "             height:  80%;\n",
              "            background:  linear-gradient(90deg,lightblue 17.6%, transparent 17.6%);\n",
              "        }#T_37bd8aa6_085c_11ec_b816_0242ac1c0002row11_col1{\n",
              "            width:  10em;\n",
              "             height:  80%;\n",
              "            background:  linear-gradient(90deg,lightblue 25.0%, transparent 25.0%);\n",
              "        }#T_37bd8aa6_085c_11ec_b816_0242ac1c0002row12_col1{\n",
              "            width:  10em;\n",
              "             height:  80%;\n",
              "            background:  linear-gradient(90deg,lightblue 20.4%, transparent 20.4%);\n",
              "        }#T_37bd8aa6_085c_11ec_b816_0242ac1c0002row13_col1{\n",
              "            width:  10em;\n",
              "             height:  80%;\n",
              "            background:  linear-gradient(90deg,lightblue 32.4%, transparent 32.4%);\n",
              "        }#T_37bd8aa6_085c_11ec_b816_0242ac1c0002row14_col1{\n",
              "            width:  10em;\n",
              "             height:  80%;\n",
              "            background:  linear-gradient(90deg,lightblue 51.9%, transparent 51.9%);\n",
              "        }#T_37bd8aa6_085c_11ec_b816_0242ac1c0002row15_col1,#T_37bd8aa6_085c_11ec_b816_0242ac1c0002row18_col1{\n",
              "            width:  10em;\n",
              "             height:  80%;\n",
              "            background:  linear-gradient(90deg,lightblue 19.5%, transparent 19.5%);\n",
              "        }#T_37bd8aa6_085c_11ec_b816_0242ac1c0002row16_col1{\n",
              "            width:  10em;\n",
              "             height:  80%;\n",
              "            background:  linear-gradient(90deg,lightblue 10.2%, transparent 10.2%);\n",
              "        }</style><table id=\"T_37bd8aa6_085c_11ec_b816_0242ac1c0002\" ><thead>    <tr>        <th class=\"blank level0\" ></th>        <th class=\"col_heading level0 col0\" >Frequência (Vendas)</th>        <th class=\"col_heading level0 col1\" >Percentual (Vendas)</th>    </tr>    <tr>        <th class=\"index_name level0\" >ID_Loja</th>        <th class=\"blank\" ></th>        <th class=\"blank\" ></th>    </tr></thead><tbody>\n",
              "                <tr>\n",
              "                        <th id=\"T_37bd8aa6_085c_11ec_b816_0242ac1c0002level0_row0\" class=\"row_heading level0 row0\" >1034</th>\n",
              "                        <td id=\"T_37bd8aa6_085c_11ec_b816_0242ac1c0002row0_col0\" class=\"data row0 col0\" >67</td>\n",
              "                        <td id=\"T_37bd8aa6_085c_11ec_b816_0242ac1c0002row0_col1\" class=\"data row0 col1\" >7.49%</td>\n",
              "            </tr>\n",
              "            <tr>\n",
              "                        <th id=\"T_37bd8aa6_085c_11ec_b816_0242ac1c0002level0_row1\" class=\"row_heading level0 row1\" >1035</th>\n",
              "                        <td id=\"T_37bd8aa6_085c_11ec_b816_0242ac1c0002row1_col0\" class=\"data row1 col0\" >112</td>\n",
              "                        <td id=\"T_37bd8aa6_085c_11ec_b816_0242ac1c0002row1_col1\" class=\"data row1 col1\" >12.53%</td>\n",
              "            </tr>\n",
              "            <tr>\n",
              "                        <th id=\"T_37bd8aa6_085c_11ec_b816_0242ac1c0002level0_row2\" class=\"row_heading level0 row2\" >1036</th>\n",
              "                        <td id=\"T_37bd8aa6_085c_11ec_b816_0242ac1c0002row2_col0\" class=\"data row2 col0\" >117</td>\n",
              "                        <td id=\"T_37bd8aa6_085c_11ec_b816_0242ac1c0002row2_col1\" class=\"data row2 col1\" >13.09%</td>\n",
              "            </tr>\n",
              "            <tr>\n",
              "                        <th id=\"T_37bd8aa6_085c_11ec_b816_0242ac1c0002level0_row3\" class=\"row_heading level0 row3\" >1037</th>\n",
              "                        <td id=\"T_37bd8aa6_085c_11ec_b816_0242ac1c0002row3_col0\" class=\"data row3 col0\" >101</td>\n",
              "                        <td id=\"T_37bd8aa6_085c_11ec_b816_0242ac1c0002row3_col1\" class=\"data row3 col1\" >11.30%</td>\n",
              "            </tr>\n",
              "            <tr>\n",
              "                        <th id=\"T_37bd8aa6_085c_11ec_b816_0242ac1c0002level0_row4\" class=\"row_heading level0 row4\" >1520</th>\n",
              "                        <td id=\"T_37bd8aa6_085c_11ec_b816_0242ac1c0002row4_col0\" class=\"data row4 col0\" >39</td>\n",
              "                        <td id=\"T_37bd8aa6_085c_11ec_b816_0242ac1c0002row4_col1\" class=\"data row4 col1\" >4.36%</td>\n",
              "            </tr>\n",
              "            <tr>\n",
              "                        <th id=\"T_37bd8aa6_085c_11ec_b816_0242ac1c0002level0_row5\" class=\"row_heading level0 row5\" >1521</th>\n",
              "                        <td id=\"T_37bd8aa6_085c_11ec_b816_0242ac1c0002row5_col0\" class=\"data row5 col0\" >21</td>\n",
              "                        <td id=\"T_37bd8aa6_085c_11ec_b816_0242ac1c0002row5_col1\" class=\"data row5 col1\" >2.35%</td>\n",
              "            </tr>\n",
              "            <tr>\n",
              "                        <th id=\"T_37bd8aa6_085c_11ec_b816_0242ac1c0002level0_row6\" class=\"row_heading level0 row6\" >1522</th>\n",
              "                        <td id=\"T_37bd8aa6_085c_11ec_b816_0242ac1c0002row6_col0\" class=\"data row6 col0\" >41</td>\n",
              "                        <td id=\"T_37bd8aa6_085c_11ec_b816_0242ac1c0002row6_col1\" class=\"data row6 col1\" >4.59%</td>\n",
              "            </tr>\n",
              "            <tr>\n",
              "                        <th id=\"T_37bd8aa6_085c_11ec_b816_0242ac1c0002level0_row7\" class=\"row_heading level0 row7\" >1523</th>\n",
              "                        <td id=\"T_37bd8aa6_085c_11ec_b816_0242ac1c0002row7_col0\" class=\"data row7 col0\" >29</td>\n",
              "                        <td id=\"T_37bd8aa6_085c_11ec_b816_0242ac1c0002row7_col1\" class=\"data row7 col1\" >3.24%</td>\n",
              "            </tr>\n",
              "            <tr>\n",
              "                        <th id=\"T_37bd8aa6_085c_11ec_b816_0242ac1c0002level0_row8\" class=\"row_heading level0 row8\" >852</th>\n",
              "                        <td id=\"T_37bd8aa6_085c_11ec_b816_0242ac1c0002row8_col0\" class=\"data row8 col0\" >29</td>\n",
              "                        <td id=\"T_37bd8aa6_085c_11ec_b816_0242ac1c0002row8_col1\" class=\"data row8 col1\" >3.24%</td>\n",
              "            </tr>\n",
              "            <tr>\n",
              "                        <th id=\"T_37bd8aa6_085c_11ec_b816_0242ac1c0002level0_row9\" class=\"row_heading level0 row9\" >853</th>\n",
              "                        <td id=\"T_37bd8aa6_085c_11ec_b816_0242ac1c0002row9_col0\" class=\"data row9 col0\" >26</td>\n",
              "                        <td id=\"T_37bd8aa6_085c_11ec_b816_0242ac1c0002row9_col1\" class=\"data row9 col1\" >2.91%</td>\n",
              "            </tr>\n",
              "            <tr>\n",
              "                        <th id=\"T_37bd8aa6_085c_11ec_b816_0242ac1c0002level0_row10\" class=\"row_heading level0 row10\" >854</th>\n",
              "                        <td id=\"T_37bd8aa6_085c_11ec_b816_0242ac1c0002row10_col0\" class=\"data row10 col0\" >28</td>\n",
              "                        <td id=\"T_37bd8aa6_085c_11ec_b816_0242ac1c0002row10_col1\" class=\"data row10 col1\" >3.13%</td>\n",
              "            </tr>\n",
              "            <tr>\n",
              "                        <th id=\"T_37bd8aa6_085c_11ec_b816_0242ac1c0002level0_row11\" class=\"row_heading level0 row11\" >980</th>\n",
              "                        <td id=\"T_37bd8aa6_085c_11ec_b816_0242ac1c0002row11_col0\" class=\"data row11 col0\" >36</td>\n",
              "                        <td id=\"T_37bd8aa6_085c_11ec_b816_0242ac1c0002row11_col1\" class=\"data row11 col1\" >4.03%</td>\n",
              "            </tr>\n",
              "            <tr>\n",
              "                        <th id=\"T_37bd8aa6_085c_11ec_b816_0242ac1c0002level0_row12\" class=\"row_heading level0 row12\" >981</th>\n",
              "                        <td id=\"T_37bd8aa6_085c_11ec_b816_0242ac1c0002row12_col0\" class=\"data row12 col0\" >31</td>\n",
              "                        <td id=\"T_37bd8aa6_085c_11ec_b816_0242ac1c0002row12_col1\" class=\"data row12 col1\" >3.47%</td>\n",
              "            </tr>\n",
              "            <tr>\n",
              "                        <th id=\"T_37bd8aa6_085c_11ec_b816_0242ac1c0002level0_row13\" class=\"row_heading level0 row13\" >982</th>\n",
              "                        <td id=\"T_37bd8aa6_085c_11ec_b816_0242ac1c0002row13_col0\" class=\"data row13 col0\" >44</td>\n",
              "                        <td id=\"T_37bd8aa6_085c_11ec_b816_0242ac1c0002row13_col1\" class=\"data row13 col1\" >4.92%</td>\n",
              "            </tr>\n",
              "            <tr>\n",
              "                        <th id=\"T_37bd8aa6_085c_11ec_b816_0242ac1c0002level0_row14\" class=\"row_heading level0 row14\" >983</th>\n",
              "                        <td id=\"T_37bd8aa6_085c_11ec_b816_0242ac1c0002row14_col0\" class=\"data row14 col0\" >65</td>\n",
              "                        <td id=\"T_37bd8aa6_085c_11ec_b816_0242ac1c0002row14_col1\" class=\"data row14 col1\" >7.27%</td>\n",
              "            </tr>\n",
              "            <tr>\n",
              "                        <th id=\"T_37bd8aa6_085c_11ec_b816_0242ac1c0002level0_row15\" class=\"row_heading level0 row15\" >1002</th>\n",
              "                        <td id=\"T_37bd8aa6_085c_11ec_b816_0242ac1c0002row15_col0\" class=\"data row15 col0\" >30</td>\n",
              "                        <td id=\"T_37bd8aa6_085c_11ec_b816_0242ac1c0002row15_col1\" class=\"data row15 col1\" >3.36%</td>\n",
              "            </tr>\n",
              "            <tr>\n",
              "                        <th id=\"T_37bd8aa6_085c_11ec_b816_0242ac1c0002level0_row16\" class=\"row_heading level0 row16\" >1003</th>\n",
              "                        <td id=\"T_37bd8aa6_085c_11ec_b816_0242ac1c0002row16_col0\" class=\"data row16 col0\" >20</td>\n",
              "                        <td id=\"T_37bd8aa6_085c_11ec_b816_0242ac1c0002row16_col1\" class=\"data row16 col1\" >2.24%</td>\n",
              "            </tr>\n",
              "            <tr>\n",
              "                        <th id=\"T_37bd8aa6_085c_11ec_b816_0242ac1c0002level0_row17\" class=\"row_heading level0 row17\" >1004</th>\n",
              "                        <td id=\"T_37bd8aa6_085c_11ec_b816_0242ac1c0002row17_col0\" class=\"data row17 col0\" >28</td>\n",
              "                        <td id=\"T_37bd8aa6_085c_11ec_b816_0242ac1c0002row17_col1\" class=\"data row17 col1\" >3.13%</td>\n",
              "            </tr>\n",
              "            <tr>\n",
              "                        <th id=\"T_37bd8aa6_085c_11ec_b816_0242ac1c0002level0_row18\" class=\"row_heading level0 row18\" >1005</th>\n",
              "                        <td id=\"T_37bd8aa6_085c_11ec_b816_0242ac1c0002row18_col0\" class=\"data row18 col0\" >30</td>\n",
              "                        <td id=\"T_37bd8aa6_085c_11ec_b816_0242ac1c0002row18_col1\" class=\"data row18 col1\" >3.36%</td>\n",
              "            </tr>\n",
              "    </tbody></table>"
            ],
            "text/plain": [
              "<pandas.io.formats.style.Styler at 0x7f08208e8fd0>"
            ]
          },
          "metadata": {},
          "execution_count": 52
        }
      ]
    },
    {
      "cell_type": "code",
      "metadata": {
        "colab": {
          "base_uri": "https://localhost:8080/",
          "height": 460
        },
        "id": "aNOwzFTONmO-",
        "outputId": "4d2458fa-2147-4d28-8fbb-16e8de26514c"
      },
      "source": [
        "tb_frequencia.style.format({'Percentual (Vendas)' : '{:.2%}'}).bar(subset= \"Percentual (Vendas)\", \n",
        "                                                                   vmin= 0.01,\n",
        "                                                                   color= 'lightblue'\n",
        "                                                                   )\\\n",
        "                                                                   .applymap(lambda x: f\"color: {'red' if x >= 50 else 'black'}\",\n",
        "                                                                             subset= 'Frequência (Vendas)')"
      ],
      "execution_count": null,
      "outputs": [
        {
          "output_type": "execute_result",
          "data": {
            "text/html": [
              "<style  type=\"text/css\" >\n",
              "#T_add0bcfe_085c_11ec_b816_0242ac1c0002row0_col0,#T_add0bcfe_085c_11ec_b816_0242ac1c0002row1_col0,#T_add0bcfe_085c_11ec_b816_0242ac1c0002row2_col0,#T_add0bcfe_085c_11ec_b816_0242ac1c0002row3_col0,#T_add0bcfe_085c_11ec_b816_0242ac1c0002row14_col0{\n",
              "            color:  red;\n",
              "        }#T_add0bcfe_085c_11ec_b816_0242ac1c0002row0_col1{\n",
              "            width:  10em;\n",
              "             height:  80%;\n",
              "            background:  linear-gradient(90deg,lightblue 53.7%, transparent 53.7%);\n",
              "        }#T_add0bcfe_085c_11ec_b816_0242ac1c0002row1_col1{\n",
              "            width:  10em;\n",
              "             height:  80%;\n",
              "            background:  linear-gradient(90deg,lightblue 95.4%, transparent 95.4%);\n",
              "        }#T_add0bcfe_085c_11ec_b816_0242ac1c0002row2_col1{\n",
              "            width:  10em;\n",
              "             height:  80%;\n",
              "            background:  linear-gradient(90deg,lightblue 100.0%, transparent 100.0%);\n",
              "        }#T_add0bcfe_085c_11ec_b816_0242ac1c0002row3_col1{\n",
              "            width:  10em;\n",
              "             height:  80%;\n",
              "            background:  linear-gradient(90deg,lightblue 85.2%, transparent 85.2%);\n",
              "        }#T_add0bcfe_085c_11ec_b816_0242ac1c0002row4_col0,#T_add0bcfe_085c_11ec_b816_0242ac1c0002row5_col0,#T_add0bcfe_085c_11ec_b816_0242ac1c0002row6_col0,#T_add0bcfe_085c_11ec_b816_0242ac1c0002row7_col0,#T_add0bcfe_085c_11ec_b816_0242ac1c0002row8_col0,#T_add0bcfe_085c_11ec_b816_0242ac1c0002row9_col0,#T_add0bcfe_085c_11ec_b816_0242ac1c0002row10_col0,#T_add0bcfe_085c_11ec_b816_0242ac1c0002row11_col0,#T_add0bcfe_085c_11ec_b816_0242ac1c0002row12_col0,#T_add0bcfe_085c_11ec_b816_0242ac1c0002row13_col0,#T_add0bcfe_085c_11ec_b816_0242ac1c0002row15_col0,#T_add0bcfe_085c_11ec_b816_0242ac1c0002row16_col0,#T_add0bcfe_085c_11ec_b816_0242ac1c0002row17_col0,#T_add0bcfe_085c_11ec_b816_0242ac1c0002row18_col0{\n",
              "            color:  black;\n",
              "        }#T_add0bcfe_085c_11ec_b816_0242ac1c0002row4_col1{\n",
              "            width:  10em;\n",
              "             height:  80%;\n",
              "            background:  linear-gradient(90deg,lightblue 27.8%, transparent 27.8%);\n",
              "        }#T_add0bcfe_085c_11ec_b816_0242ac1c0002row5_col1{\n",
              "            width:  10em;\n",
              "             height:  80%;\n",
              "            background:  linear-gradient(90deg,lightblue 11.2%, transparent 11.2%);\n",
              "        }#T_add0bcfe_085c_11ec_b816_0242ac1c0002row6_col1{\n",
              "            width:  10em;\n",
              "             height:  80%;\n",
              "            background:  linear-gradient(90deg,lightblue 29.7%, transparent 29.7%);\n",
              "        }#T_add0bcfe_085c_11ec_b816_0242ac1c0002row7_col1,#T_add0bcfe_085c_11ec_b816_0242ac1c0002row8_col1{\n",
              "            width:  10em;\n",
              "             height:  80%;\n",
              "            background:  linear-gradient(90deg,lightblue 18.6%, transparent 18.6%);\n",
              "        }#T_add0bcfe_085c_11ec_b816_0242ac1c0002row9_col1{\n",
              "            width:  10em;\n",
              "             height:  80%;\n",
              "            background:  linear-gradient(90deg,lightblue 15.8%, transparent 15.8%);\n",
              "        }#T_add0bcfe_085c_11ec_b816_0242ac1c0002row10_col1,#T_add0bcfe_085c_11ec_b816_0242ac1c0002row17_col1{\n",
              "            width:  10em;\n",
              "             height:  80%;\n",
              "            background:  linear-gradient(90deg,lightblue 17.6%, transparent 17.6%);\n",
              "        }#T_add0bcfe_085c_11ec_b816_0242ac1c0002row11_col1{\n",
              "            width:  10em;\n",
              "             height:  80%;\n",
              "            background:  linear-gradient(90deg,lightblue 25.0%, transparent 25.0%);\n",
              "        }#T_add0bcfe_085c_11ec_b816_0242ac1c0002row12_col1{\n",
              "            width:  10em;\n",
              "             height:  80%;\n",
              "            background:  linear-gradient(90deg,lightblue 20.4%, transparent 20.4%);\n",
              "        }#T_add0bcfe_085c_11ec_b816_0242ac1c0002row13_col1{\n",
              "            width:  10em;\n",
              "             height:  80%;\n",
              "            background:  linear-gradient(90deg,lightblue 32.4%, transparent 32.4%);\n",
              "        }#T_add0bcfe_085c_11ec_b816_0242ac1c0002row14_col1{\n",
              "            width:  10em;\n",
              "             height:  80%;\n",
              "            background:  linear-gradient(90deg,lightblue 51.9%, transparent 51.9%);\n",
              "        }#T_add0bcfe_085c_11ec_b816_0242ac1c0002row15_col1,#T_add0bcfe_085c_11ec_b816_0242ac1c0002row18_col1{\n",
              "            width:  10em;\n",
              "             height:  80%;\n",
              "            background:  linear-gradient(90deg,lightblue 19.5%, transparent 19.5%);\n",
              "        }#T_add0bcfe_085c_11ec_b816_0242ac1c0002row16_col1{\n",
              "            width:  10em;\n",
              "             height:  80%;\n",
              "            background:  linear-gradient(90deg,lightblue 10.2%, transparent 10.2%);\n",
              "        }</style><table id=\"T_add0bcfe_085c_11ec_b816_0242ac1c0002\" ><thead>    <tr>        <th class=\"blank level0\" ></th>        <th class=\"col_heading level0 col0\" >Frequência (Vendas)</th>        <th class=\"col_heading level0 col1\" >Percentual (Vendas)</th>    </tr>    <tr>        <th class=\"index_name level0\" >ID_Loja</th>        <th class=\"blank\" ></th>        <th class=\"blank\" ></th>    </tr></thead><tbody>\n",
              "                <tr>\n",
              "                        <th id=\"T_add0bcfe_085c_11ec_b816_0242ac1c0002level0_row0\" class=\"row_heading level0 row0\" >1034</th>\n",
              "                        <td id=\"T_add0bcfe_085c_11ec_b816_0242ac1c0002row0_col0\" class=\"data row0 col0\" >67</td>\n",
              "                        <td id=\"T_add0bcfe_085c_11ec_b816_0242ac1c0002row0_col1\" class=\"data row0 col1\" >7.49%</td>\n",
              "            </tr>\n",
              "            <tr>\n",
              "                        <th id=\"T_add0bcfe_085c_11ec_b816_0242ac1c0002level0_row1\" class=\"row_heading level0 row1\" >1035</th>\n",
              "                        <td id=\"T_add0bcfe_085c_11ec_b816_0242ac1c0002row1_col0\" class=\"data row1 col0\" >112</td>\n",
              "                        <td id=\"T_add0bcfe_085c_11ec_b816_0242ac1c0002row1_col1\" class=\"data row1 col1\" >12.53%</td>\n",
              "            </tr>\n",
              "            <tr>\n",
              "                        <th id=\"T_add0bcfe_085c_11ec_b816_0242ac1c0002level0_row2\" class=\"row_heading level0 row2\" >1036</th>\n",
              "                        <td id=\"T_add0bcfe_085c_11ec_b816_0242ac1c0002row2_col0\" class=\"data row2 col0\" >117</td>\n",
              "                        <td id=\"T_add0bcfe_085c_11ec_b816_0242ac1c0002row2_col1\" class=\"data row2 col1\" >13.09%</td>\n",
              "            </tr>\n",
              "            <tr>\n",
              "                        <th id=\"T_add0bcfe_085c_11ec_b816_0242ac1c0002level0_row3\" class=\"row_heading level0 row3\" >1037</th>\n",
              "                        <td id=\"T_add0bcfe_085c_11ec_b816_0242ac1c0002row3_col0\" class=\"data row3 col0\" >101</td>\n",
              "                        <td id=\"T_add0bcfe_085c_11ec_b816_0242ac1c0002row3_col1\" class=\"data row3 col1\" >11.30%</td>\n",
              "            </tr>\n",
              "            <tr>\n",
              "                        <th id=\"T_add0bcfe_085c_11ec_b816_0242ac1c0002level0_row4\" class=\"row_heading level0 row4\" >1520</th>\n",
              "                        <td id=\"T_add0bcfe_085c_11ec_b816_0242ac1c0002row4_col0\" class=\"data row4 col0\" >39</td>\n",
              "                        <td id=\"T_add0bcfe_085c_11ec_b816_0242ac1c0002row4_col1\" class=\"data row4 col1\" >4.36%</td>\n",
              "            </tr>\n",
              "            <tr>\n",
              "                        <th id=\"T_add0bcfe_085c_11ec_b816_0242ac1c0002level0_row5\" class=\"row_heading level0 row5\" >1521</th>\n",
              "                        <td id=\"T_add0bcfe_085c_11ec_b816_0242ac1c0002row5_col0\" class=\"data row5 col0\" >21</td>\n",
              "                        <td id=\"T_add0bcfe_085c_11ec_b816_0242ac1c0002row5_col1\" class=\"data row5 col1\" >2.35%</td>\n",
              "            </tr>\n",
              "            <tr>\n",
              "                        <th id=\"T_add0bcfe_085c_11ec_b816_0242ac1c0002level0_row6\" class=\"row_heading level0 row6\" >1522</th>\n",
              "                        <td id=\"T_add0bcfe_085c_11ec_b816_0242ac1c0002row6_col0\" class=\"data row6 col0\" >41</td>\n",
              "                        <td id=\"T_add0bcfe_085c_11ec_b816_0242ac1c0002row6_col1\" class=\"data row6 col1\" >4.59%</td>\n",
              "            </tr>\n",
              "            <tr>\n",
              "                        <th id=\"T_add0bcfe_085c_11ec_b816_0242ac1c0002level0_row7\" class=\"row_heading level0 row7\" >1523</th>\n",
              "                        <td id=\"T_add0bcfe_085c_11ec_b816_0242ac1c0002row7_col0\" class=\"data row7 col0\" >29</td>\n",
              "                        <td id=\"T_add0bcfe_085c_11ec_b816_0242ac1c0002row7_col1\" class=\"data row7 col1\" >3.24%</td>\n",
              "            </tr>\n",
              "            <tr>\n",
              "                        <th id=\"T_add0bcfe_085c_11ec_b816_0242ac1c0002level0_row8\" class=\"row_heading level0 row8\" >852</th>\n",
              "                        <td id=\"T_add0bcfe_085c_11ec_b816_0242ac1c0002row8_col0\" class=\"data row8 col0\" >29</td>\n",
              "                        <td id=\"T_add0bcfe_085c_11ec_b816_0242ac1c0002row8_col1\" class=\"data row8 col1\" >3.24%</td>\n",
              "            </tr>\n",
              "            <tr>\n",
              "                        <th id=\"T_add0bcfe_085c_11ec_b816_0242ac1c0002level0_row9\" class=\"row_heading level0 row9\" >853</th>\n",
              "                        <td id=\"T_add0bcfe_085c_11ec_b816_0242ac1c0002row9_col0\" class=\"data row9 col0\" >26</td>\n",
              "                        <td id=\"T_add0bcfe_085c_11ec_b816_0242ac1c0002row9_col1\" class=\"data row9 col1\" >2.91%</td>\n",
              "            </tr>\n",
              "            <tr>\n",
              "                        <th id=\"T_add0bcfe_085c_11ec_b816_0242ac1c0002level0_row10\" class=\"row_heading level0 row10\" >854</th>\n",
              "                        <td id=\"T_add0bcfe_085c_11ec_b816_0242ac1c0002row10_col0\" class=\"data row10 col0\" >28</td>\n",
              "                        <td id=\"T_add0bcfe_085c_11ec_b816_0242ac1c0002row10_col1\" class=\"data row10 col1\" >3.13%</td>\n",
              "            </tr>\n",
              "            <tr>\n",
              "                        <th id=\"T_add0bcfe_085c_11ec_b816_0242ac1c0002level0_row11\" class=\"row_heading level0 row11\" >980</th>\n",
              "                        <td id=\"T_add0bcfe_085c_11ec_b816_0242ac1c0002row11_col0\" class=\"data row11 col0\" >36</td>\n",
              "                        <td id=\"T_add0bcfe_085c_11ec_b816_0242ac1c0002row11_col1\" class=\"data row11 col1\" >4.03%</td>\n",
              "            </tr>\n",
              "            <tr>\n",
              "                        <th id=\"T_add0bcfe_085c_11ec_b816_0242ac1c0002level0_row12\" class=\"row_heading level0 row12\" >981</th>\n",
              "                        <td id=\"T_add0bcfe_085c_11ec_b816_0242ac1c0002row12_col0\" class=\"data row12 col0\" >31</td>\n",
              "                        <td id=\"T_add0bcfe_085c_11ec_b816_0242ac1c0002row12_col1\" class=\"data row12 col1\" >3.47%</td>\n",
              "            </tr>\n",
              "            <tr>\n",
              "                        <th id=\"T_add0bcfe_085c_11ec_b816_0242ac1c0002level0_row13\" class=\"row_heading level0 row13\" >982</th>\n",
              "                        <td id=\"T_add0bcfe_085c_11ec_b816_0242ac1c0002row13_col0\" class=\"data row13 col0\" >44</td>\n",
              "                        <td id=\"T_add0bcfe_085c_11ec_b816_0242ac1c0002row13_col1\" class=\"data row13 col1\" >4.92%</td>\n",
              "            </tr>\n",
              "            <tr>\n",
              "                        <th id=\"T_add0bcfe_085c_11ec_b816_0242ac1c0002level0_row14\" class=\"row_heading level0 row14\" >983</th>\n",
              "                        <td id=\"T_add0bcfe_085c_11ec_b816_0242ac1c0002row14_col0\" class=\"data row14 col0\" >65</td>\n",
              "                        <td id=\"T_add0bcfe_085c_11ec_b816_0242ac1c0002row14_col1\" class=\"data row14 col1\" >7.27%</td>\n",
              "            </tr>\n",
              "            <tr>\n",
              "                        <th id=\"T_add0bcfe_085c_11ec_b816_0242ac1c0002level0_row15\" class=\"row_heading level0 row15\" >1002</th>\n",
              "                        <td id=\"T_add0bcfe_085c_11ec_b816_0242ac1c0002row15_col0\" class=\"data row15 col0\" >30</td>\n",
              "                        <td id=\"T_add0bcfe_085c_11ec_b816_0242ac1c0002row15_col1\" class=\"data row15 col1\" >3.36%</td>\n",
              "            </tr>\n",
              "            <tr>\n",
              "                        <th id=\"T_add0bcfe_085c_11ec_b816_0242ac1c0002level0_row16\" class=\"row_heading level0 row16\" >1003</th>\n",
              "                        <td id=\"T_add0bcfe_085c_11ec_b816_0242ac1c0002row16_col0\" class=\"data row16 col0\" >20</td>\n",
              "                        <td id=\"T_add0bcfe_085c_11ec_b816_0242ac1c0002row16_col1\" class=\"data row16 col1\" >2.24%</td>\n",
              "            </tr>\n",
              "            <tr>\n",
              "                        <th id=\"T_add0bcfe_085c_11ec_b816_0242ac1c0002level0_row17\" class=\"row_heading level0 row17\" >1004</th>\n",
              "                        <td id=\"T_add0bcfe_085c_11ec_b816_0242ac1c0002row17_col0\" class=\"data row17 col0\" >28</td>\n",
              "                        <td id=\"T_add0bcfe_085c_11ec_b816_0242ac1c0002row17_col1\" class=\"data row17 col1\" >3.13%</td>\n",
              "            </tr>\n",
              "            <tr>\n",
              "                        <th id=\"T_add0bcfe_085c_11ec_b816_0242ac1c0002level0_row18\" class=\"row_heading level0 row18\" >1005</th>\n",
              "                        <td id=\"T_add0bcfe_085c_11ec_b816_0242ac1c0002row18_col0\" class=\"data row18 col0\" >30</td>\n",
              "                        <td id=\"T_add0bcfe_085c_11ec_b816_0242ac1c0002row18_col1\" class=\"data row18 col1\" >3.36%</td>\n",
              "            </tr>\n",
              "    </tbody></table>"
            ],
            "text/plain": [
              "<pandas.io.formats.style.Styler at 0x7f0821342410>"
            ]
          },
          "metadata": {},
          "execution_count": 53
        }
      ]
    },
    {
      "cell_type": "markdown",
      "metadata": {
        "id": "c1nEOW1uOb-S"
      },
      "source": [
        "## Criando Gráficos"
      ]
    },
    {
      "cell_type": "markdown",
      "metadata": {
        "id": "O3_k1rXmOjnP"
      },
      "source": [
        "### Gráfico de barra"
      ]
    },
    {
      "cell_type": "code",
      "metadata": {
        "colab": {
          "base_uri": "https://localhost:8080/",
          "height": 298
        },
        "id": "3gFqd4HGOPEm",
        "outputId": "8e88f912-0ad2-4348-a9d4-3d9bc2d4cfd8"
      },
      "source": [
        "df['LojaID'].value_counts(ascending=False).plot.bar()"
      ],
      "execution_count": null,
      "outputs": [
        {
          "output_type": "execute_result",
          "data": {
            "text/plain": [
              "<matplotlib.axes._subplots.AxesSubplot at 0x7f08263ad850>"
            ]
          },
          "metadata": {},
          "execution_count": 23
        },
        {
          "output_type": "display_data",
          "data": {
            "image/png": "[encoded data removed]",
            "text/plain": [
              "<Figure size 432x288 with 1 Axes>"
            ]
          },
          "metadata": {
            "needs_background": "light"
          }
        }
      ]
    },
    {
      "cell_type": "markdown",
      "metadata": {
        "id": "TZX0QwVrPDGM"
      },
      "source": [
        "### Gráfico de barra horizontal"
      ]
    },
    {
      "cell_type": "code",
      "metadata": {
        "colab": {
          "base_uri": "https://localhost:8080/",
          "height": 265
        },
        "id": "_gKB0lYvOyCW",
        "outputId": "6148117c-be10-4206-a98b-0240ad1ed5d1"
      },
      "source": [
        "df['LojaID'].value_counts(ascending=False).plot.barh();"
      ],
      "execution_count": null,
      "outputs": [
        {
          "output_type": "display_data",
          "data": {
            "image/png": "[encoded data removed]",
            "text/plain": [
              "<Figure size 432x288 with 1 Axes>"
            ]
          },
          "metadata": {
            "needs_background": "light"
          }
        }
      ]
    },
    {
      "cell_type": "code",
      "metadata": {
        "colab": {
          "base_uri": "https://localhost:8080/",
          "height": 265
        },
        "id": "K77WCGbRPJn-",
        "outputId": "27d3e9b5-7e0a-43b6-87ee-dcdb9d4f51f5"
      },
      "source": [
        "# Deixando barh do maior para o menor\n",
        "df['LojaID'].value_counts(ascending=True).plot.barh();"
      ],
      "execution_count": null,
      "outputs": [
        {
          "output_type": "display_data",
          "data": {
            "image/png": "[encoded data removed]",
            "text/plain": [
              "<Figure size 432x288 with 1 Axes>"
            ]
          },
          "metadata": {
            "needs_background": "light"
          }
        }
      ]
    },
    {
      "cell_type": "markdown",
      "metadata": {
        "id": "-tPfuovmP9Jj"
      },
      "source": [
        "### Gráfico de Pizza"
      ]
    },
    {
      "cell_type": "code",
      "metadata": {
        "id": "cNSpWMpZPmGW"
      },
      "source": [
        "# Criando uma variável que calcula total de receita por ano\n",
        "receita_total_ano = df.groupby(df[\"Data\"].dt.year)['Receita'].sum()"
      ],
      "execution_count": null,
      "outputs": []
    },
    {
      "cell_type": "code",
      "metadata": {
        "colab": {
          "base_uri": "https://localhost:8080/",
          "height": 248
        },
        "id": "9xpePqrOQQW3",
        "outputId": "6dcef85b-0e8b-44ac-cbd1-e289a4a77163"
      },
      "source": [
        "# Visualização de receita total em uma gráfico de pizza\n",
        "receita_total_ano.plot.pie();"
      ],
      "execution_count": null,
      "outputs": [
        {
          "output_type": "display_data",
          "data": {
            "image/png": "[encoded data removed]",
            "text/plain": [
              "<Figure size 432x288 with 1 Axes>"
            ]
          },
          "metadata": {}
        }
      ]
    },
    {
      "cell_type": "code",
      "metadata": {
        "colab": {
          "base_uri": "https://localhost:8080/"
        },
        "id": "e01pRQ4eQ09d",
        "outputId": "5f4c2534-e43d-4915-d32c-ed46de0c9288"
      },
      "source": [
        "# Total de venda por cidade\n",
        "df['Cidade'].value_counts()"
      ],
      "execution_count": null,
      "outputs": [
        {
          "output_type": "execute_result",
          "data": {
            "text/plain": [
              "Natal        240\n",
              "Salvador     240\n",
              "Recife       142\n",
              "Fortaleza    142\n",
              "Aracaju      130\n",
              "Name: Cidade, dtype: int64"
            ]
          },
          "metadata": {},
          "execution_count": 28
        }
      ]
    },
    {
      "cell_type": "markdown",
      "metadata": {
        "id": "7oTUBhLCRfR8"
      },
      "source": [
        "## Estilizando Gráficos"
      ]
    },
    {
      "cell_type": "markdown",
      "metadata": {
        "id": "FsO-kJ3gRy-l"
      },
      "source": [
        "### Importando Biblioteca matplotlib"
      ]
    },
    {
      "cell_type": "code",
      "metadata": {
        "id": "IepU4b_hRYzs"
      },
      "source": [
        "# Importando matplotlib\n",
        "import matplotlib.pyplot as plt"
      ],
      "execution_count": null,
      "outputs": []
    },
    {
      "cell_type": "code",
      "metadata": {
        "colab": {
          "base_uri": "https://localhost:8080/",
          "height": 331
        },
        "id": "L3nMyu94R9CU",
        "outputId": "08694567-6f48-4aae-88b6-f1f290345f61"
      },
      "source": [
        "df['Cidade'].value_counts().plot.bar(title= 'Total de vendas por Cidade')\n",
        "plt.xlabel('Cidade')\n",
        "plt.ylabel('Total vendas')\n",
        "plt.show()"
      ],
      "execution_count": null,
      "outputs": [
        {
          "output_type": "display_data",
          "data": {
            "image/png": "[encoded data removed]",
            "text/plain": [
              "<Figure size 432x288 with 1 Axes>"
            ]
          },
          "metadata": {
            "needs_background": "light"
          }
        }
      ]
    },
    {
      "cell_type": "code",
      "metadata": {
        "colab": {
          "base_uri": "https://localhost:8080/",
          "height": 331
        },
        "id": "j2W6aknNSk88",
        "outputId": "9130aead-933b-497a-8c58-b6de78ba1fbe"
      },
      "source": [
        "# Alterando a cor da barra do gráfico\n",
        "df['Cidade'].value_counts().plot.bar(title= 'Total de vendas por Cidade',\n",
        "                                     color='red')\n",
        "plt.xlabel('Cidade')\n",
        "plt.ylabel('Total vendas')\n",
        "plt.show()"
      ],
      "execution_count": null,
      "outputs": [
        {
          "output_type": "display_data",
          "data": {
            "image/png": "[encoded data removed]",
            "text/plain": [
              "<Figure size 432x288 with 1 Axes>"
            ]
          },
          "metadata": {
            "needs_background": "light"
          }
        }
      ]
    },
    {
      "cell_type": "code",
      "metadata": {
        "id": "avjUqmYSTuCm"
      },
      "source": [
        "# Alterando o estilo\n",
        "plt.style.use('ggplot')"
      ],
      "execution_count": null,
      "outputs": []
    },
    {
      "cell_type": "code",
      "metadata": {
        "colab": {
          "base_uri": "https://localhost:8080/",
          "height": 317
        },
        "id": "LrZG4wq6URt_",
        "outputId": "cbf335e9-3bfb-45b2-a69a-e0e7977aaa80"
      },
      "source": [
        "df.groupby(df['mes_venda'])['Qtde'].sum().plot(title='Total de produtos vendido por mês')\n",
        "plt.xlabel('Mês')\n",
        "plt.ylabel('Tota produtos vendidos')\n",
        "plt.legend()"
      ],
      "execution_count": null,
      "outputs": [
        {
          "output_type": "execute_result",
          "data": {
            "text/plain": [
              "<matplotlib.legend.Legend at 0x7f0825a923d0>"
            ]
          },
          "metadata": {},
          "execution_count": 34
        },
        {
          "output_type": "display_data",
          "data": {
            "image/png": "[encoded data removed]",
            "text/plain": [
              "<Figure size 432x288 with 1 Axes>"
            ]
          },
          "metadata": {}
        }
      ]
    },
    {
      "cell_type": "code",
      "metadata": {
        "id": "wyfxMfhgVBHj",
        "colab": {
          "base_uri": "https://localhost:8080/"
        },
        "outputId": "f249cb00-4425-4a75-fd5e-57d01dcf974d"
      },
      "source": [
        "# Criando uma agrupamento de vendas por mês\n",
        "df.groupby(df['mes_venda'])['Qtde'].sum()"
      ],
      "execution_count": null,
      "outputs": [
        {
          "output_type": "execute_result",
          "data": {
            "text/plain": [
              "mes_venda\n",
              "1     2208\n",
              "2      144\n",
              "3      467\n",
              "4       23\n",
              "5       17\n",
              "6       13\n",
              "7       13\n",
              "8        2\n",
              "9       10\n",
              "10      14\n",
              "11       2\n",
              "12       3\n",
              "Name: Qtde, dtype: int64"
            ]
          },
          "metadata": {},
          "execution_count": 35
        }
      ]
    },
    {
      "cell_type": "code",
      "metadata": {
        "colab": {
          "base_uri": "https://localhost:8080/",
          "height": 419
        },
        "id": "V6w7UV8_EeJ7",
        "outputId": "e29d9a2d-8d02-4504-eb4e-2dd8826a232c"
      },
      "source": [
        "# Selecionando apenas as vendas de 2019\n",
        "df_2019 = df[df['Ano_venda'] == 2019]\n",
        "df_2019"
      ],
      "execution_count": null,
      "outputs": [
        {
          "output_type": "execute_result",
          "data": {
            "text/html": [
              "<div>\n",
              "<style scoped>\n",
              "    .dataframe tbody tr th:only-of-type {\n",
              "        vertical-align: middle;\n",
              "    }\n",
              "\n",
              "    .dataframe tbody tr th {\n",
              "        vertical-align: top;\n",
              "    }\n",
              "\n",
              "    .dataframe thead th {\n",
              "        text-align: right;\n",
              "    }\n",
              "</style>\n",
              "<table border=\"1\" class=\"dataframe\">\n",
              "  <thead>\n",
              "    <tr style=\"text-align: right;\">\n",
              "      <th></th>\n",
              "      <th>Cidade</th>\n",
              "      <th>Data</th>\n",
              "      <th>Vendas</th>\n",
              "      <th>LojaID</th>\n",
              "      <th>Qtde</th>\n",
              "      <th>Receita</th>\n",
              "      <th>Ano_venda</th>\n",
              "      <th>mes_venda</th>\n",
              "      <th>dia_venda</th>\n",
              "      <th>diferenca_dias</th>\n",
              "      <th>trimestre_venda</th>\n",
              "    </tr>\n",
              "  </thead>\n",
              "  <tbody>\n",
              "    <tr>\n",
              "      <th>7</th>\n",
              "      <td>Aracaju</td>\n",
              "      <td>2019-01-01</td>\n",
              "      <td>172.22</td>\n",
              "      <td>1522</td>\n",
              "      <td>6</td>\n",
              "      <td>1033.32</td>\n",
              "      <td>2019</td>\n",
              "      <td>1</td>\n",
              "      <td>1</td>\n",
              "      <td>365 days</td>\n",
              "      <td>1</td>\n",
              "    </tr>\n",
              "    <tr>\n",
              "      <th>8</th>\n",
              "      <td>Aracaju</td>\n",
              "      <td>2019-01-01</td>\n",
              "      <td>12.16</td>\n",
              "      <td>1523</td>\n",
              "      <td>1</td>\n",
              "      <td>12.16</td>\n",
              "      <td>2019</td>\n",
              "      <td>1</td>\n",
              "      <td>1</td>\n",
              "      <td>365 days</td>\n",
              "      <td>1</td>\n",
              "    </tr>\n",
              "    <tr>\n",
              "      <th>9</th>\n",
              "      <td>Aracaju</td>\n",
              "      <td>2019-01-01</td>\n",
              "      <td>149.36</td>\n",
              "      <td>1523</td>\n",
              "      <td>3</td>\n",
              "      <td>448.08</td>\n",
              "      <td>2019</td>\n",
              "      <td>1</td>\n",
              "      <td>1</td>\n",
              "      <td>365 days</td>\n",
              "      <td>1</td>\n",
              "    </tr>\n",
              "    <tr>\n",
              "      <th>10</th>\n",
              "      <td>Aracaju</td>\n",
              "      <td>2019-01-01</td>\n",
              "      <td>42.34</td>\n",
              "      <td>1522</td>\n",
              "      <td>6</td>\n",
              "      <td>254.04</td>\n",
              "      <td>2019</td>\n",
              "      <td>1</td>\n",
              "      <td>1</td>\n",
              "      <td>365 days</td>\n",
              "      <td>1</td>\n",
              "    </tr>\n",
              "    <tr>\n",
              "      <th>11</th>\n",
              "      <td>Aracaju</td>\n",
              "      <td>2019-01-01</td>\n",
              "      <td>161.53</td>\n",
              "      <td>1520</td>\n",
              "      <td>4</td>\n",
              "      <td>646.12</td>\n",
              "      <td>2019</td>\n",
              "      <td>1</td>\n",
              "      <td>1</td>\n",
              "      <td>365 days</td>\n",
              "      <td>1</td>\n",
              "    </tr>\n",
              "    <tr>\n",
              "      <th>...</th>\n",
              "      <td>...</td>\n",
              "      <td>...</td>\n",
              "      <td>...</td>\n",
              "      <td>...</td>\n",
              "      <td>...</td>\n",
              "      <td>...</td>\n",
              "      <td>...</td>\n",
              "      <td>...</td>\n",
              "      <td>...</td>\n",
              "      <td>...</td>\n",
              "      <td>...</td>\n",
              "    </tr>\n",
              "    <tr>\n",
              "      <th>235</th>\n",
              "      <td>Salvador</td>\n",
              "      <td>2019-01-03</td>\n",
              "      <td>41.84</td>\n",
              "      <td>1034</td>\n",
              "      <td>1</td>\n",
              "      <td>41.84</td>\n",
              "      <td>2019</td>\n",
              "      <td>1</td>\n",
              "      <td>3</td>\n",
              "      <td>367 days</td>\n",
              "      <td>1</td>\n",
              "    </tr>\n",
              "    <tr>\n",
              "      <th>236</th>\n",
              "      <td>Salvador</td>\n",
              "      <td>2019-01-03</td>\n",
              "      <td>126.29</td>\n",
              "      <td>1035</td>\n",
              "      <td>3</td>\n",
              "      <td>378.87</td>\n",
              "      <td>2019</td>\n",
              "      <td>1</td>\n",
              "      <td>3</td>\n",
              "      <td>367 days</td>\n",
              "      <td>1</td>\n",
              "    </tr>\n",
              "    <tr>\n",
              "      <th>237</th>\n",
              "      <td>Salvador</td>\n",
              "      <td>2019-01-03</td>\n",
              "      <td>38.06</td>\n",
              "      <td>1036</td>\n",
              "      <td>3</td>\n",
              "      <td>114.18</td>\n",
              "      <td>2019</td>\n",
              "      <td>1</td>\n",
              "      <td>3</td>\n",
              "      <td>367 days</td>\n",
              "      <td>1</td>\n",
              "    </tr>\n",
              "    <tr>\n",
              "      <th>238</th>\n",
              "      <td>Salvador</td>\n",
              "      <td>2019-01-03</td>\n",
              "      <td>139.64</td>\n",
              "      <td>1035</td>\n",
              "      <td>1</td>\n",
              "      <td>139.64</td>\n",
              "      <td>2019</td>\n",
              "      <td>1</td>\n",
              "      <td>3</td>\n",
              "      <td>367 days</td>\n",
              "      <td>1</td>\n",
              "    </tr>\n",
              "    <tr>\n",
              "      <th>239</th>\n",
              "      <td>Salvador</td>\n",
              "      <td>2019-01-03</td>\n",
              "      <td>161.41</td>\n",
              "      <td>1037</td>\n",
              "      <td>3</td>\n",
              "      <td>484.23</td>\n",
              "      <td>2019</td>\n",
              "      <td>1</td>\n",
              "      <td>3</td>\n",
              "      <td>367 days</td>\n",
              "      <td>1</td>\n",
              "    </tr>\n",
              "  </tbody>\n",
              "</table>\n",
              "<p>729 rows × 11 columns</p>\n",
              "</div>"
            ],
            "text/plain": [
              "       Cidade       Data  Vendas  ...  dia_venda  diferenca_dias  trimestre_venda\n",
              "7     Aracaju 2019-01-01  172.22  ...          1        365 days                1\n",
              "8     Aracaju 2019-01-01   12.16  ...          1        365 days                1\n",
              "9     Aracaju 2019-01-01  149.36  ...          1        365 days                1\n",
              "10    Aracaju 2019-01-01   42.34  ...          1        365 days                1\n",
              "11    Aracaju 2019-01-01  161.53  ...          1        365 days                1\n",
              "..        ...        ...     ...  ...        ...             ...              ...\n",
              "235  Salvador 2019-01-03   41.84  ...          3        367 days                1\n",
              "236  Salvador 2019-01-03  126.29  ...          3        367 days                1\n",
              "237  Salvador 2019-01-03   38.06  ...          3        367 days                1\n",
              "238  Salvador 2019-01-03  139.64  ...          3        367 days                1\n",
              "239  Salvador 2019-01-03  161.41  ...          3        367 days                1\n",
              "\n",
              "[729 rows x 11 columns]"
            ]
          },
          "metadata": {},
          "execution_count": 37
        }
      ]
    },
    {
      "cell_type": "code",
      "metadata": {
        "colab": {
          "base_uri": "https://localhost:8080/",
          "height": 284
        },
        "id": "-CAnt1-aE5vc",
        "outputId": "11526fba-31eb-4d7b-aa1f-84943e2d6977"
      },
      "source": [
        "# Total de produtos vendidos por mês de 2019\n",
        "df_2019.groupby(df_2019['mes_venda'])['Qtde'].sum().plot(marker = 'o')\n",
        "plt.xlabel('Mês')\n",
        "plt.ylabel('Total de Produtos Vendidos')\n",
        "plt.legend();"
      ],
      "execution_count": null,
      "outputs": [
        {
          "output_type": "display_data",
          "data": {
            "image/png": "[encoded data removed]",
            "text/plain": [
              "<Figure size 432x288 with 1 Axes>"
            ]
          },
          "metadata": {}
        }
      ]
    },
    {
      "cell_type": "markdown",
      "metadata": {
        "id": "_SqAFIdsFr1p"
      },
      "source": [
        "### Histograma"
      ]
    },
    {
      "cell_type": "code",
      "metadata": {
        "colab": {
          "base_uri": "https://localhost:8080/",
          "height": 265
        },
        "id": "eDvMUjewFjwu",
        "outputId": "dcea33f0-0e09-49de-bdfb-f95fd8422b21"
      },
      "source": [
        "# Criando um histograma\n",
        "plt.hist(df['Qtde'], color=\"peru\");"
      ],
      "execution_count": null,
      "outputs": [
        {
          "output_type": "display_data",
          "data": {
            "image/png": "[encoded data removed]",
            "text/plain": [
              "<Figure size 432x288 with 1 Axes>"
            ]
          },
          "metadata": {}
        }
      ]
    },
    {
      "cell_type": "markdown",
      "metadata": {
        "id": "PQhvNDGsGfVm"
      },
      "source": [
        "### Gráfico scatter"
      ]
    },
    {
      "cell_type": "code",
      "metadata": {
        "colab": {
          "base_uri": "https://localhost:8080/",
          "height": 265
        },
        "id": "tDrEogoOGXLR",
        "outputId": "5c3e40f6-9b82-4fd0-9cb6-2fc5b19e4286"
      },
      "source": [
        "plt.scatter(x = df_2019['dia_venda'], y = df_2019['Receita']);"
      ],
      "execution_count": null,
      "outputs": [
        {
          "output_type": "display_data",
          "data": {
            "image/png": "[encoded data removed]",
            "text/plain": [
              "<Figure size 432x288 with 1 Axes>"
            ]
          },
          "metadata": {}
        }
      ]
    },
    {
      "cell_type": "markdown",
      "metadata": {
        "id": "J4CDWqocHKF2"
      },
      "source": [
        "## Salvando img de gráficos em png"
      ]
    },
    {
      "cell_type": "code",
      "metadata": {
        "colab": {
          "base_uri": "https://localhost:8080/",
          "height": 299
        },
        "id": "mYhlAHlAGvzA",
        "outputId": "701e1516-fb81-48b9-80d1-a93de3310e54"
      },
      "source": [
        "# Salvando em png\n",
        "df_2019.groupby(df_2019['mes_venda'])['Qtde'].sum().plot(marker= 'o')\n",
        "plt.title('Quantidade de Produtos Vendidos x Mês')\n",
        "plt.xlabel('Mês')\n",
        "plt.ylabel('Total de Produtos Vendidos');\n",
        "plt.legend()\n",
        "\n",
        "# Salvando imagem\n",
        "plt.savefig('grafico QTDE x MES.png')"
      ],
      "execution_count": null,
      "outputs": [
        {
          "output_type": "display_data",
          "data": {
            "image/png": "[encoded data removed]",
            "text/plain": [
              "<Figure size 432x288 with 1 Axes>"
            ]
          },
          "metadata": {}
        }
      ]
    }
  ]
}